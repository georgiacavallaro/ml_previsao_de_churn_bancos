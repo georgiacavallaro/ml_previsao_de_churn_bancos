{
 "cells": [
  {
   "cell_type": "markdown",
   "metadata": {},
   "source": [
    "# Revisão de código \n",
    "\n",
    "Olá! \n",
    "\n",
    "Meu nome é Suelen. Estou feliz em revisar seu projeto hoje!\n",
    "\n",
    "Quando vejo um erro pela primeira vez, apenas aponto. Deixarei você encontrá-lo e corrigi-lo sozinho. Além disso, ao longo do texto, farei algumas observações sobre melhorias no código e também farei comentários sobre suas percepções sobre o assunto. Mas se você ainda não consegue lidar com essa tarefa, darei uma dica mais precisa na próxima iteração e também alguns exemplos práticos. Estarei aberto a feedbacks e discussões sobre o tema.\n",
    "\n",
    "Você pode encontrar meus comentários em caixas verdes, amarelas ou vermelhas como estas:\n",
    "\n",
    "\n",
    "<div class=\"alert alert-block alert-success\">\n",
    "<b>Comentário: </b> <a class=\"tocSkip\"></a>\n",
    "\n",
    "Sucesso. Tudo está correto.\n",
    "</div>\n",
    "\n",
    "<div class=\"alert alert-block alert-warning\">\n",
    "<b>Comentário: </b> <a class=\"tocSkip\"></a>\n",
    "\n",
    "Observações. Algumas recomendações.\n",
    "</div>\n",
    "\n",
    "<div class=\"alert alert-block alert-danger\">\n",
    "\n",
    "<b>Comentário: </b> <a class=\"tocSkip\"></a>\n",
    "\n",
    "O bloco requer algumas correções. O trabalho não pode ser aceito com os comentários vermelhos.\n",
    "</div>\n",
    "\n",
    "Você pode me responder usando isto:\n",
    "\n",
    "<div class=\"alert alert-block alert-info\">\n",
    "<b>Resposta do aluno.  \n",
    "    </b> <a class=\"tocSkip\"></a>\n",
    "</div>\n",
    "\n"
   ]
  },
  {
   "cell_type": "code",
   "execution_count": null,
   "metadata": {},
   "outputs": [],
   "source": []
  },
  {
   "cell_type": "markdown",
   "metadata": {},
   "source": [
    "<div class=\"alert alert-block alert-success\">\n",
    "\n",
    "<b>Comentário geral: </b> <a class=\"tocSkip\"></a>\n",
    "\n",
    "Parabéns pelo excelente desenvolvimento do código, Georgia! 🎉 Seu projeto está com uma qualidade excepcional. É perceptível que você domina os conceitos de ciência de dados.\n",
    "\n",
    "Adicionei apenas alguns comentários com sugestões e dicas para te ajudar a brilhar ainda mais.\n",
    "Continue com esse trabalho incrível! 🔆 \n",
    "\n",
    "</div>"
   ]
  },
  {
   "cell_type": "markdown",
   "metadata": {},
   "source": [
    "# Fique um pouco mais\n",
    "\n",
    "## Objetivo\n",
    "\n",
    "Desenvolver um modelo de machine learning para o banco *BetaBank* com o maior F1-score possível, que possa analisar o comportamento dos clientes para prever quando algum deles tiver grandes chances de deixar o banco.\n",
    "\n",
    "- **F1-score mínimo para o conjunto de dados de testes: 0,56**\n",
    "\n",
    "## Analisando os dados\n",
    "\n",
    "### Importando biliotecas e dados"
   ]
  },
  {
   "cell_type": "code",
   "execution_count": 40,
   "metadata": {},
   "outputs": [],
   "source": [
    "import warnings\n",
    "import pandas as pd\n",
    "import seaborn as sns\n",
    "import matplotlib.pyplot as plt\n",
    "from sklearn.tree import DecisionTreeClassifier\n",
    "from sklearn.ensemble import RandomForestClassifier\n",
    "from sklearn.linear_model import LogisticRegression\n",
    "from sklearn.model_selection import train_test_split\n",
    "from sklearn.metrics import f1_score\n",
    "from sklearn.metrics import roc_curve, roc_auc_score\n",
    "from sklearn.preprocessing import StandardScaler\n",
    "from sklearn.preprocessing import OrdinalEncoder\n",
    "from sklearn.exceptions import ConvergenceWarning\n",
    "from sklearn.utils import shuffle"
   ]
  },
  {
   "cell_type": "code",
   "execution_count": 2,
   "metadata": {},
   "outputs": [],
   "source": [
    "df = pd.read_csv('/datasets/Churn.csv')"
   ]
  },
  {
   "cell_type": "markdown",
   "metadata": {},
   "source": [
    "### Entendendo o conjunto de dados"
   ]
  },
  {
   "cell_type": "code",
   "execution_count": 3,
   "metadata": {},
   "outputs": [
    {
     "name": "stdout",
     "output_type": "stream",
     "text": [
      "<class 'pandas.core.frame.DataFrame'>\n",
      "RangeIndex: 10000 entries, 0 to 9999\n",
      "Data columns (total 14 columns):\n",
      " #   Column           Non-Null Count  Dtype  \n",
      "---  ------           --------------  -----  \n",
      " 0   RowNumber        10000 non-null  int64  \n",
      " 1   CustomerId       10000 non-null  int64  \n",
      " 2   Surname          10000 non-null  object \n",
      " 3   CreditScore      10000 non-null  int64  \n",
      " 4   Geography        10000 non-null  object \n",
      " 5   Gender           10000 non-null  object \n",
      " 6   Age              10000 non-null  int64  \n",
      " 7   Tenure           9091 non-null   float64\n",
      " 8   Balance          10000 non-null  float64\n",
      " 9   NumOfProducts    10000 non-null  int64  \n",
      " 10  HasCrCard        10000 non-null  int64  \n",
      " 11  IsActiveMember   10000 non-null  int64  \n",
      " 12  EstimatedSalary  10000 non-null  float64\n",
      " 13  Exited           10000 non-null  int64  \n",
      "dtypes: float64(3), int64(8), object(3)\n",
      "memory usage: 1.1+ MB\n"
     ]
    }
   ],
   "source": [
    "df.info()"
   ]
  },
  {
   "cell_type": "code",
   "execution_count": 4,
   "metadata": {},
   "outputs": [
    {
     "data": {
      "text/html": [
       "<div>\n",
       "<style scoped>\n",
       "    .dataframe tbody tr th:only-of-type {\n",
       "        vertical-align: middle;\n",
       "    }\n",
       "\n",
       "    .dataframe tbody tr th {\n",
       "        vertical-align: top;\n",
       "    }\n",
       "\n",
       "    .dataframe thead th {\n",
       "        text-align: right;\n",
       "    }\n",
       "</style>\n",
       "<table border=\"1\" class=\"dataframe\">\n",
       "  <thead>\n",
       "    <tr style=\"text-align: right;\">\n",
       "      <th></th>\n",
       "      <th>RowNumber</th>\n",
       "      <th>CustomerId</th>\n",
       "      <th>Surname</th>\n",
       "      <th>CreditScore</th>\n",
       "      <th>Geography</th>\n",
       "      <th>Gender</th>\n",
       "      <th>Age</th>\n",
       "      <th>Tenure</th>\n",
       "      <th>Balance</th>\n",
       "      <th>NumOfProducts</th>\n",
       "      <th>HasCrCard</th>\n",
       "      <th>IsActiveMember</th>\n",
       "      <th>EstimatedSalary</th>\n",
       "      <th>Exited</th>\n",
       "    </tr>\n",
       "  </thead>\n",
       "  <tbody>\n",
       "    <tr>\n",
       "      <th>3819</th>\n",
       "      <td>3820</td>\n",
       "      <td>15718289</td>\n",
       "      <td>Bradley</td>\n",
       "      <td>553</td>\n",
       "      <td>Germany</td>\n",
       "      <td>Male</td>\n",
       "      <td>46</td>\n",
       "      <td>3.0</td>\n",
       "      <td>82291.10</td>\n",
       "      <td>1</td>\n",
       "      <td>1</td>\n",
       "      <td>0</td>\n",
       "      <td>112549.99</td>\n",
       "      <td>1</td>\n",
       "    </tr>\n",
       "    <tr>\n",
       "      <th>2986</th>\n",
       "      <td>2987</td>\n",
       "      <td>15768816</td>\n",
       "      <td>Shen</td>\n",
       "      <td>570</td>\n",
       "      <td>Germany</td>\n",
       "      <td>Male</td>\n",
       "      <td>42</td>\n",
       "      <td>0.0</td>\n",
       "      <td>107856.57</td>\n",
       "      <td>2</td>\n",
       "      <td>1</td>\n",
       "      <td>0</td>\n",
       "      <td>127528.84</td>\n",
       "      <td>0</td>\n",
       "    </tr>\n",
       "    <tr>\n",
       "      <th>2260</th>\n",
       "      <td>2261</td>\n",
       "      <td>15623927</td>\n",
       "      <td>Alexander</td>\n",
       "      <td>576</td>\n",
       "      <td>France</td>\n",
       "      <td>Male</td>\n",
       "      <td>55</td>\n",
       "      <td>9.0</td>\n",
       "      <td>0.00</td>\n",
       "      <td>2</td>\n",
       "      <td>1</td>\n",
       "      <td>1</td>\n",
       "      <td>94450.97</td>\n",
       "      <td>0</td>\n",
       "    </tr>\n",
       "    <tr>\n",
       "      <th>8704</th>\n",
       "      <td>8705</td>\n",
       "      <td>15777586</td>\n",
       "      <td>Moss</td>\n",
       "      <td>784</td>\n",
       "      <td>Spain</td>\n",
       "      <td>Female</td>\n",
       "      <td>42</td>\n",
       "      <td>2.0</td>\n",
       "      <td>109052.04</td>\n",
       "      <td>2</td>\n",
       "      <td>1</td>\n",
       "      <td>0</td>\n",
       "      <td>6409.55</td>\n",
       "      <td>0</td>\n",
       "    </tr>\n",
       "    <tr>\n",
       "      <th>1783</th>\n",
       "      <td>1784</td>\n",
       "      <td>15693381</td>\n",
       "      <td>Tipton</td>\n",
       "      <td>533</td>\n",
       "      <td>Spain</td>\n",
       "      <td>Male</td>\n",
       "      <td>38</td>\n",
       "      <td>1.0</td>\n",
       "      <td>135289.33</td>\n",
       "      <td>2</td>\n",
       "      <td>0</td>\n",
       "      <td>1</td>\n",
       "      <td>152956.33</td>\n",
       "      <td>0</td>\n",
       "    </tr>\n",
       "  </tbody>\n",
       "</table>\n",
       "</div>"
      ],
      "text/plain": [
       "      RowNumber  CustomerId    Surname  CreditScore Geography  Gender  Age  \\\n",
       "3819       3820    15718289    Bradley          553   Germany    Male   46   \n",
       "2986       2987    15768816       Shen          570   Germany    Male   42   \n",
       "2260       2261    15623927  Alexander          576    France    Male   55   \n",
       "8704       8705    15777586       Moss          784     Spain  Female   42   \n",
       "1783       1784    15693381     Tipton          533     Spain    Male   38   \n",
       "\n",
       "      Tenure    Balance  NumOfProducts  HasCrCard  IsActiveMember  \\\n",
       "3819     3.0   82291.10              1          1               0   \n",
       "2986     0.0  107856.57              2          1               0   \n",
       "2260     9.0       0.00              2          1               1   \n",
       "8704     2.0  109052.04              2          1               0   \n",
       "1783     1.0  135289.33              2          0               1   \n",
       "\n",
       "      EstimatedSalary  Exited  \n",
       "3819        112549.99       1  \n",
       "2986        127528.84       0  \n",
       "2260         94450.97       0  \n",
       "8704          6409.55       0  \n",
       "1783        152956.33       0  "
      ]
     },
     "execution_count": 4,
     "metadata": {},
     "output_type": "execute_result"
    }
   ],
   "source": [
    "df.sample(5, random_state=3333)"
   ]
  },
  {
   "cell_type": "markdown",
   "metadata": {},
   "source": [
    "O DataFrame possui dados bancários dos clientes em seu período de relacionamento com o banco contendo os seguintes dados:\n",
    "\n",
    "- `RowNumber`: Números dos índices das strings de dados *(não parece acrescentar informações relevantes aos dados, já temos os próprios índices do DataFrame)*;\n",
    "- `CustomerId`: Identificador exclusivo do cliente *(sem valores nulos, deve ser convertido para String por ser uma variável categórica e para não ser confundido com medidas de grandeza pelo modelo)*;\n",
    "- `Surname`: Sobrenome do cliente *(não possui valores nulos, é mais útil para identificar o cliente após as previsões do que para o próprio cálculo das previsões)*;\n",
    "- `CreditScore`: Pontuação de crédito *(não possui valores nulos, é uma importante medida de grandeza)*;\n",
    "- `Geography`: País de residência *(não possui valores nulos, variável categórica de possível relevância)*;\n",
    "- `Gender`: Gênero do cliente *(não possui valores nulos, variável categórica)*;\n",
    "- `Age`: Idade do cliente *(não possui valores nulos, variável numérica)*;\n",
    "- `Tenure`: Período de maturação para o depósito fixo de um cliente - *em anos (possui valores ausentes que precisarão ser substituídos)*;\n",
    "- `Balance`: Saldo atual da conta - *ou no momento de rescisão de contrato (não possui valores nulos, também é uma importante medida de grandeza)*;\n",
    "- `NumOfProducts`: Número de produtos bancários usados pelo cliente *(não possui valores nulos, variável numérica)*;\n",
    "- `HasCrCard`: Se o cliente possui cartão de crédito - *1 = sim, 0 = não (não possui valores nulos, variável binária)*;\n",
    "- `IsActiveMember`: Se o cliente é ativo no banco ou não - *1 = sim, 0 = não (não possui valores nulos, variável binária)*;\n",
    "- `EstimatedSalary`: Salário estimado *(não possui valores nulos, outra importante medida de grandeza)*;\n",
    "- `Exited`: **Variável objetivo** - Contrato encerrado ou não - *1 = sim; 0 = não (não possui valores nulos, variável binária)*."
   ]
  },
  {
   "cell_type": "code",
   "execution_count": 5,
   "metadata": {},
   "outputs": [
    {
     "data": {
      "text/html": [
       "<div>\n",
       "<style scoped>\n",
       "    .dataframe tbody tr th:only-of-type {\n",
       "        vertical-align: middle;\n",
       "    }\n",
       "\n",
       "    .dataframe tbody tr th {\n",
       "        vertical-align: top;\n",
       "    }\n",
       "\n",
       "    .dataframe thead th {\n",
       "        text-align: right;\n",
       "    }\n",
       "</style>\n",
       "<table border=\"1\" class=\"dataframe\">\n",
       "  <thead>\n",
       "    <tr style=\"text-align: right;\">\n",
       "      <th></th>\n",
       "      <th>RowNumber</th>\n",
       "      <th>CustomerId</th>\n",
       "      <th>Surname</th>\n",
       "      <th>CreditScore</th>\n",
       "      <th>Geography</th>\n",
       "      <th>Gender</th>\n",
       "      <th>Age</th>\n",
       "      <th>Tenure</th>\n",
       "      <th>Balance</th>\n",
       "      <th>NumOfProducts</th>\n",
       "      <th>HasCrCard</th>\n",
       "      <th>IsActiveMember</th>\n",
       "      <th>EstimatedSalary</th>\n",
       "      <th>Exited</th>\n",
       "    </tr>\n",
       "  </thead>\n",
       "  <tbody>\n",
       "  </tbody>\n",
       "</table>\n",
       "</div>"
      ],
      "text/plain": [
       "Empty DataFrame\n",
       "Columns: [RowNumber, CustomerId, Surname, CreditScore, Geography, Gender, Age, Tenure, Balance, NumOfProducts, HasCrCard, IsActiveMember, EstimatedSalary, Exited]\n",
       "Index: []"
      ]
     },
     "execution_count": 5,
     "metadata": {},
     "output_type": "execute_result"
    }
   ],
   "source": [
    "# Conferindo se não há dados duplicados.\n",
    "df[df.duplicated()]"
   ]
  },
  {
   "cell_type": "markdown",
   "metadata": {},
   "source": [
    "O DataFrame não possui dados duplicados.\n",
    "\n",
    "### Entendendo as variáveis quantitativas"
   ]
  },
  {
   "cell_type": "code",
   "execution_count": 6,
   "metadata": {},
   "outputs": [
    {
     "data": {
      "text/plain": [
       "count    10000.000000\n",
       "mean       650.528800\n",
       "std         96.653299\n",
       "min        350.000000\n",
       "25%        584.000000\n",
       "50%        652.000000\n",
       "75%        718.000000\n",
       "max        850.000000\n",
       "Name: CreditScore, dtype: float64"
      ]
     },
     "execution_count": 6,
     "metadata": {},
     "output_type": "execute_result"
    }
   ],
   "source": [
    "# Conferindo a amplitude de CreditScore.\n",
    "df['CreditScore'].describe()"
   ]
  },
  {
   "cell_type": "markdown",
   "metadata": {},
   "source": [
    "Os valores de `CreditScore` variam entre 350 e 850, com distribuição próxima da Normal."
   ]
  },
  {
   "cell_type": "code",
   "execution_count": 7,
   "metadata": {},
   "outputs": [
    {
     "data": {
      "text/plain": [
       "count    10000.000000\n",
       "mean        38.921800\n",
       "std         10.487806\n",
       "min         18.000000\n",
       "25%         32.000000\n",
       "50%         37.000000\n",
       "75%         44.000000\n",
       "max         92.000000\n",
       "Name: Age, dtype: float64"
      ]
     },
     "execution_count": 7,
     "metadata": {},
     "output_type": "execute_result"
    }
   ],
   "source": [
    "# Conferindo amplitude de Age.\n",
    "df['Age'].describe()"
   ]
  },
  {
   "cell_type": "markdown",
   "metadata": {},
   "source": [
    "Os valores de `Age` variam entre 18 e 92 anos com 50% dos clientes variando entre 32 e 44 anos."
   ]
  },
  {
   "cell_type": "code",
   "execution_count": 8,
   "metadata": {},
   "outputs": [
    {
     "data": {
      "text/plain": [
       "count    9091.000000\n",
       "mean        4.997690\n",
       "std         2.894723\n",
       "min         0.000000\n",
       "25%         2.000000\n",
       "50%         5.000000\n",
       "75%         7.000000\n",
       "max        10.000000\n",
       "Name: Tenure, dtype: float64"
      ]
     },
     "execution_count": 8,
     "metadata": {},
     "output_type": "execute_result"
    }
   ],
   "source": [
    "# Conferindo amplitude de Tenure.\n",
    "df['Tenure'].describe()"
   ]
  },
  {
   "cell_type": "markdown",
   "metadata": {},
   "source": [
    "`Tenure` varia entre 0 e 10 anos de aplicação."
   ]
  },
  {
   "cell_type": "code",
   "execution_count": 9,
   "metadata": {},
   "outputs": [
    {
     "data": {
      "text/plain": [
       "count     10000.000000\n",
       "mean      76485.889288\n",
       "std       62397.405202\n",
       "min           0.000000\n",
       "25%           0.000000\n",
       "50%       97198.540000\n",
       "75%      127644.240000\n",
       "max      250898.090000\n",
       "Name: Balance, dtype: float64"
      ]
     },
     "execution_count": 9,
     "metadata": {},
     "output_type": "execute_result"
    }
   ],
   "source": [
    "# Conferindo amplitude de Balance.\n",
    "df['Balance'].describe()"
   ]
  },
  {
   "cell_type": "markdown",
   "metadata": {},
   "source": [
    "`Balance` varia de 0 a 250.898,09 dólares como saldo da conta, sendo todo o primeiro quartil de clientes com o saldo zerado."
   ]
  },
  {
   "cell_type": "code",
   "execution_count": 10,
   "metadata": {},
   "outputs": [
    {
     "data": {
      "text/plain": [
       "count     10000.000000\n",
       "mean     100090.239881\n",
       "std       57510.492818\n",
       "min          11.580000\n",
       "25%       51002.110000\n",
       "50%      100193.915000\n",
       "75%      149388.247500\n",
       "max      199992.480000\n",
       "Name: EstimatedSalary, dtype: float64"
      ]
     },
     "execution_count": 10,
     "metadata": {},
     "output_type": "execute_result"
    }
   ],
   "source": [
    "# Conferindo amplitude de EstimatedSalary.\n",
    "df['EstimatedSalary'].describe()"
   ]
  },
  {
   "cell_type": "markdown",
   "metadata": {},
   "source": [
    "O `EstimatedSalary` varia entre 11,58 e 199.992,48 dólares.\n",
    "\n",
    "Inicialmente não há necessidade de padronizar as escalas, uma vez que não sabemos quais delas são mais relevantes para as previsões ou mesmo se todas seriam igualmente relevantes ou não.\n",
    "\n",
    "## Preparando os dados"
   ]
  },
  {
   "cell_type": "code",
   "execution_count": 11,
   "metadata": {},
   "outputs": [],
   "source": [
    "# Apagando a coluna RowNumber\n",
    "df_prepared = df.drop(['RowNumber', 'CustomerId', 'Surname'], axis=1)"
   ]
  },
  {
   "cell_type": "code",
   "execution_count": 12,
   "metadata": {},
   "outputs": [],
   "source": [
    "# Preenchendo os valores nulos de Tenure\n",
    "df_prepared['Tenure'].fillna(5, inplace=True)"
   ]
  },
  {
   "cell_type": "markdown",
   "metadata": {},
   "source": [
    "Escolhi preencher os valores nulos de `Tenure` com a mediana, que é de 5 anos."
   ]
  },
  {
   "cell_type": "markdown",
   "metadata": {},
   "source": [
    "<div class=\"alert alert-block alert-success\">\n",
    "\n",
    "<b>Comentário: </b> <a class=\"tocSkip\"></a>\n",
    "\n",
    "Perfeito tratamento dos dados nulos com a mediana. Caso se interesse pelo assunto de imputação para dados nulos, recomendo a leitura: https://www.datacamp.com/tutorial/techniques-to-handle-missing-data-values Aborda técnicas mais avançadas de imputação de dados muito interessantes. \n",
    "</div>"
   ]
  },
  {
   "cell_type": "code",
   "execution_count": 13,
   "metadata": {},
   "outputs": [],
   "source": [
    "# Fazendo a Codificação de Rótulos em todo o dataframe, exceto em Gender.\n",
    "gender_column = df_prepared['Gender']\n",
    "\n",
    "encoder = OrdinalEncoder()\n",
    "df_encoded = pd.DataFrame(\n",
    "    encoder.fit_transform(\n",
    "        df_prepared.drop(columns=['Gender'])\n",
    "        ),\n",
    "        columns=df_prepared.drop(columns=['Gender']).columns\n",
    "    )\n",
    "\n",
    "df_encoded['Gender'] = gender_column.values"
   ]
  },
  {
   "cell_type": "code",
   "execution_count": 14,
   "metadata": {},
   "outputs": [],
   "source": [
    "# Fazendo OHE na coluna Gender.\n",
    "df_encoded = pd.get_dummies(df_encoded, columns=['Gender'], drop_first=True)"
   ]
  },
  {
   "cell_type": "markdown",
   "metadata": {},
   "source": [
    "## Examinando o Equilíbrio das Classes:"
   ]
  },
  {
   "cell_type": "code",
   "execution_count": 15,
   "metadata": {},
   "outputs": [
    {
     "data": {
      "image/png": "[encoded data removed]",
      "text/plain": [
       "<Figure size 640x480 with 1 Axes>"
      ]
     },
     "metadata": {},
     "output_type": "display_data"
    }
   ],
   "source": [
    "sns.countplot(x='Exited', data=df_encoded)\n",
    "plt.title('Distribuição das Classes')\n",
    "plt.show()"
   ]
  },
  {
   "cell_type": "markdown",
   "metadata": {},
   "source": [
    "<div class=\"alert alert-block alert-success\">\n",
    "\n",
    "<b>Comentário: </b> <a class=\"tocSkip\"></a>\n",
    "\n",
    "Bom trabalho identificando o problema de desbalanceamento de classes! Caso queira analisar as proporções dos grupos, você pode utilizar o argumento `normalize=True` dentro do value_counts(). Exemplo:\n",
    "    \n",
    "```python\n",
    "df_encoded['exit'].value_counts(normalize=True)\n",
    "```\n",
    "\n",
    "</div>"
   ]
  },
  {
   "cell_type": "markdown",
   "metadata": {},
   "source": [
    "Há um grande desequilíbro entre as classes-objetivo, proporção de aproximadamente 4:1, o que pode prejudicar a eficácia do modelo.\n",
    "\n",
    "## Dividindo os dados\n",
    "\n",
    "Como este é o único conjunto de dados que temos, vamos dividí-lo na proporção 3:1:1 *(60% vai para o conjunto de treinamento, 20% para o conjunto de validação e 20% para o conjunto de testes)*."
   ]
  },
  {
   "cell_type": "code",
   "execution_count": 16,
   "metadata": {},
   "outputs": [],
   "source": [
    "# Dividindo o conjunto de treinamento do de validação+teste.\n",
    "train, valid_test = train_test_split(df_encoded, test_size=0.4, random_state=3333)"
   ]
  },
  {
   "cell_type": "code",
   "execution_count": 17,
   "metadata": {},
   "outputs": [],
   "source": [
    "# Dividindo o subconjunto valid_test em 'valid' e 'test'\n",
    "valid, test = train_test_split(valid_test, test_size=0.5, random_state=3333)"
   ]
  },
  {
   "cell_type": "markdown",
   "metadata": {},
   "source": [
    "## Criando variáveis 'features' e 'target"
   ]
  },
  {
   "cell_type": "code",
   "execution_count": 18,
   "metadata": {},
   "outputs": [],
   "source": [
    "# Conjunto de treinamento.\n",
    "features = train.drop(['Exited'], axis=1)\n",
    "target = train['Exited']"
   ]
  },
  {
   "cell_type": "code",
   "execution_count": 19,
   "metadata": {},
   "outputs": [],
   "source": [
    "# Conjunto de validação.\n",
    "features_valid = valid.drop(['Exited'], axis=1)\n",
    "target_valid = valid['Exited']"
   ]
  },
  {
   "cell_type": "code",
   "execution_count": 20,
   "metadata": {},
   "outputs": [],
   "source": [
    "# Conjunto de testes.\n",
    "features_test = test.drop(['Exited'], axis=1)\n",
    "target_test = test['Exited']"
   ]
  },
  {
   "cell_type": "markdown",
   "metadata": {},
   "source": [
    "## Treinando um modelo sem levar em conta o desequilíbrio das classes\n",
    "\n",
    "### Treinando uma Árvore de Classificação"
   ]
  },
  {
   "cell_type": "code",
   "execution_count": 21,
   "metadata": {},
   "outputs": [
    {
     "name": "stdout",
     "output_type": "stream",
     "text": [
      "F1 Score do melhor modelo no conjunto de treinamento: 0.6719552029864675\n",
      "F1 Score do melhor modelo no conjunto de validação: 0.558904109589041, hiperparâmetros:\n",
      "criterion = gini,\n",
      "max_depth = 8,\n",
      "min_samples_split = 11,\n",
      "min_samples_leaf = 2\n"
     ]
    }
   ],
   "source": [
    "best_score = 0\n",
    "best_criterion = \"\"\n",
    "best_depth = 0\n",
    "best_samples_split = 0\n",
    "best_samples_leaf = 0\n",
    "for criterion in ['gini', 'entropy']:\n",
    "    for depth in range(1,11):\n",
    "        for sample_split in range(2,12):\n",
    "            for sample_leaf in range(2,12):\n",
    "                model = DecisionTreeClassifier(\n",
    "                    criterion=criterion,\n",
    "                    max_depth=depth,\n",
    "                    min_samples_split=sample_split,\n",
    "                    min_samples_leaf=sample_leaf,\n",
    "                    random_state=3333\n",
    "                )\n",
    "                model.fit(features, target)\n",
    "                train_predict = model.predict(features)\n",
    "                train_score = f1_score(target, train_predict)\n",
    "                valid_predict = model.predict(features_valid)\n",
    "                valid_score = f1_score(target_valid, valid_predict)\n",
    "                if valid_score > best_score:\n",
    "                    best_score = valid_score\n",
    "                    best_criterion = criterion\n",
    "                    best_depth = depth\n",
    "                    best_samples_split = sample_split\n",
    "                    best_samples_leaf = sample_leaf\n",
    "                    \n",
    "print('F1 Score do melhor modelo no conjunto de treinamento:', train_score)\n",
    "print(f'''F1 Score do melhor modelo no conjunto de validação: {best_score}, hiperparâmetros:\n",
    "criterion = {best_criterion},\n",
    "max_depth = {best_depth},\n",
    "min_samples_split = {best_samples_split},\n",
    "min_samples_leaf = {best_samples_leaf}''')"
   ]
  },
  {
   "cell_type": "markdown",
   "metadata": {},
   "source": [
    "### Treinando uma Floresta Aleatória:"
   ]
  },
  {
   "cell_type": "code",
   "execution_count": 22,
   "metadata": {},
   "outputs": [
    {
     "name": "stdout",
     "output_type": "stream",
     "text": [
      "F1 Score do melhor modelo no conjunto de treinamento: 0.6803488968701897\n",
      "F1 Score do melhor modelo no conjunto de validação: 0.5705794947994056, hiperparâmetros:\n",
      "n_estimators = 17,\n",
      "criterion = entropy,\n",
      "max_depth = 11,\n",
      "min_samples_split = 2,\n",
      "min_samples_leaf = 3\n"
     ]
    }
   ],
   "source": [
    "forest_best_est = 0\n",
    "forest_best_score = 0\n",
    "forest_best_criterion = ''\n",
    "forest_best_depth = 0\n",
    "forest_best_samples_split = 0\n",
    "forest_best_samples_leaf = 0\n",
    "for est in range(9,18):\n",
    "    for criterion in ['gini', 'entropy']:\n",
    "        for depth in range(6,12):\n",
    "            for sample_split in range(2,5):\n",
    "                for sample_leaf in range(2,5):\n",
    "                    model = RandomForestClassifier(\n",
    "                        n_estimators=est,\n",
    "                        criterion=criterion,\n",
    "                        max_depth=depth,\n",
    "                        min_samples_split=sample_split,\n",
    "                        min_samples_leaf=sample_leaf,\n",
    "                        random_state=3333\n",
    "                    )\n",
    "                    model.fit(features, target)\n",
    "                    train_predict = model.predict(features)\n",
    "                    train_score = f1_score(target, train_predict)\n",
    "                    valid_predict = model.predict(features_valid)\n",
    "                    valid_score = f1_score(target_valid, valid_predict)\n",
    "                    if valid_score > forest_best_score:\n",
    "                        forest_best_score = valid_score\n",
    "                        forest_best_est = est\n",
    "                        forest_best_criterion = criterion\n",
    "                        forest_best_depth = depth\n",
    "                        forest_best_samples_split = sample_split\n",
    "                        forest_best_samples_leaf = sample_leaf\n",
    "                        \n",
    "print('F1 Score do melhor modelo no conjunto de treinamento:', train_score)\n",
    "print(f'''F1 Score do melhor modelo no conjunto de validação: {forest_best_score}, hiperparâmetros:\n",
    "n_estimators = {forest_best_est},\n",
    "criterion = {forest_best_criterion},\n",
    "max_depth = {forest_best_depth},\n",
    "min_samples_split = {forest_best_samples_split},\n",
    "min_samples_leaf = {forest_best_samples_leaf}''')"
   ]
  },
  {
   "cell_type": "markdown",
   "metadata": {},
   "source": [
    "### Treinando Regressão Logística:"
   ]
  },
  {
   "cell_type": "code",
   "execution_count": 23,
   "metadata": {},
   "outputs": [
    {
     "name": "stdout",
     "output_type": "stream",
     "text": [
      "F1 Score do melhor modelo no conjunto de treinamento: 0.00974817221770918\n",
      "F1 Score do melhor modelo no conjunto de validação: 0.30088495575221236, hiperparâmetros:\n",
      "solver = liblinear\n"
     ]
    }
   ],
   "source": [
    "warnings.filterwarnings('ignore', category=ConvergenceWarning)\n",
    "\n",
    "log_best_score = 0\n",
    "log_best_solver = ''\n",
    "for solver in ['lbfgs','liblinear','newton-cg','sag','saga']:\n",
    "    model = LogisticRegression(\n",
    "        solver=solver,\n",
    "        random_state=3333\n",
    "    )\n",
    "    model.fit(features, target)\n",
    "    train_predict = model.predict(features)\n",
    "    train_score = f1_score(target, train_predict)\n",
    "    valid_predict = model.predict(features_valid)\n",
    "    valid_score = f1_score(target_valid, valid_predict)\n",
    "    if valid_score > log_best_score:\n",
    "        log_best_score = valid_score\n",
    "        log_best_solver = solver\n",
    "        \n",
    "print('F1 Score do melhor modelo no conjunto de treinamento:', train_score)\n",
    "print(f'''F1 Score do melhor modelo no conjunto de validação: {log_best_score}, hiperparâmetros:\n",
    "solver = {log_best_solver}''')"
   ]
  },
  {
   "cell_type": "markdown",
   "metadata": {},
   "source": [
    "Sem levar em conta o desequilíbrio de classes, o modelo de Floresta Aleatória (*F1 Score de 0.570*) teve um desempenho ligeiramente melhor que o de Árvore de Classificação (*F1 Score de 0.558*) e ambos tiveram desempenho melhor no conjunto de testes do que no de validação.\n",
    "\n",
    "Já o modelo de Regressão Logística, apesar de ter tido o pior desempenho entre os modelos, teve melhor desempenho no conjunto de validação do que no de teste, com diferença significativa entre eles (*F1 Score de 0.003 vs 0.300*).\n",
    "\n",
    "Nenhum dos modelos alcançou com o conjunto de validação o desempenho mínimo requerido (*0.590*).\n",
    "\n",
    "## Corrigindo o Desequilíbrio de Classes\n",
    "\n",
    "### Aplicando a Superamostragem"
   ]
  },
  {
   "cell_type": "code",
   "execution_count": 24,
   "metadata": {},
   "outputs": [],
   "source": [
    "# Criando a função Upsample.\n",
    "def upsample(features, target, repeat):\n",
    "    features_zeros = features[target == 0]\n",
    "    features_ones= features[target == 1]\n",
    "    target_zeros = target[target == 0]\n",
    "    target_ones = target[target == 1]\n",
    "    \n",
    "    features_upsampled = pd.concat([features_zeros] + [features_ones] * repeat)\n",
    "    target_upsampled = pd.concat([target_zeros] + [target_ones] * repeat)\n",
    "    \n",
    "    features_upsampled, target_upsampled = shuffle(\n",
    "        features_upsampled,\n",
    "        target_upsampled,\n",
    "        random_state=3333\n",
    "    )\n",
    "    \n",
    "    return features_upsampled, target_upsampled"
   ]
  },
  {
   "cell_type": "code",
   "execution_count": 25,
   "metadata": {},
   "outputs": [],
   "source": [
    "# Definindo variáveis upsampled.\n",
    "features_upsampled, target_upsampled = upsample(features, target, 10)"
   ]
  },
  {
   "cell_type": "markdown",
   "metadata": {},
   "source": [
    "### Aplicando a Subamostragem"
   ]
  },
  {
   "cell_type": "code",
   "execution_count": 26,
   "metadata": {},
   "outputs": [],
   "source": [
    "# Criando a função Downsample.\n",
    "def downsample(features, target, fraction):\n",
    "    features_zeros = features[target == 0]\n",
    "    features_ones= features[target == 1]\n",
    "    target_zeros = target[target == 0]\n",
    "    target_ones = target[target == 1]\n",
    "    \n",
    "    features_downsampled = pd.concat(\n",
    "        [features_zeros.sample(frac=fraction)]\n",
    "        + [features_ones]\n",
    "    )\n",
    "    target_downsampled = pd.concat(\n",
    "        [target_zeros.sample(frac=fraction)]\n",
    "        + [target_ones]\n",
    "    )\n",
    "    \n",
    "    features_downsampled, target_downsampled = shuffle(\n",
    "        features_downsampled,\n",
    "        target_downsampled,\n",
    "        random_state=3333\n",
    "    )\n",
    "    \n",
    "    return features_downsampled, target_downsampled"
   ]
  },
  {
   "cell_type": "code",
   "execution_count": 27,
   "metadata": {},
   "outputs": [],
   "source": [
    "# Definindo variáveis upsampled e downsampled.\n",
    "features_balanced, target_balanced = downsample(features_upsampled, target_upsampled, 0.1)"
   ]
  },
  {
   "cell_type": "code",
   "execution_count": 28,
   "metadata": {},
   "outputs": [],
   "source": [
    "# Definindo variáveis downsampled.\n",
    "features_downsampled, target_downsampled = downsample(features, target, 0.1)"
   ]
  },
  {
   "cell_type": "markdown",
   "metadata": {},
   "source": [
    "## Treinando novos modelos com as Classes equilibradas\n",
    "\n",
    "### Árvore de Classificação"
   ]
  },
  {
   "cell_type": "code",
   "execution_count": 29,
   "metadata": {},
   "outputs": [
    {
     "name": "stdout",
     "output_type": "stream",
     "text": [
      "F1 Score do melhor modelo no conjunto de treinamento: 0.5642317380352644\n",
      "F1 Score do melhor modelo no conjunto de validação: 0.5799180327868853, hiperparâmetros:\n",
      "criterion = entropy,\n",
      "max_depth = 4,\n",
      "min_samples_split = 2,\n",
      "min_samples_leaf = 2\n"
     ]
    }
   ],
   "source": [
    "# Treinando novo modelo equilibrando o peso das classes.\n",
    "best_score = 0\n",
    "best_criterion = \"\"\n",
    "best_depth = 0\n",
    "best_samples_split = 0\n",
    "best_samples_leaf = 0\n",
    "for criterion in ['gini', 'entropy']:\n",
    "    for depth in range(1,11):\n",
    "        for sample_split in range(2,12):\n",
    "            for sample_leaf in range(2,12):\n",
    "                model = DecisionTreeClassifier(\n",
    "                    criterion=criterion,\n",
    "                    max_depth=depth,\n",
    "                    min_samples_split=sample_split,\n",
    "                    min_samples_leaf=sample_leaf,\n",
    "                    class_weight='balanced',\n",
    "                    random_state=3333\n",
    "                )\n",
    "                model.fit(features_balanced, target_balanced)\n",
    "                train_predict = model.predict(features)\n",
    "                train_score = f1_score(target, train_predict)\n",
    "                valid_predict = model.predict(features_valid)\n",
    "                valid_score = f1_score(target_valid, valid_predict)\n",
    "                if valid_score > best_score:\n",
    "                    best_score = valid_score\n",
    "                    best_criterion = criterion\n",
    "                    best_depth = depth\n",
    "                    best_samples_split = sample_split\n",
    "                    best_samples_leaf = sample_leaf\n",
    "                    \n",
    "print('F1 Score do melhor modelo no conjunto de treinamento:', train_score)\n",
    "print(f'''F1 Score do melhor modelo no conjunto de validação: {best_score}, hiperparâmetros:\n",
    "criterion = {best_criterion},\n",
    "max_depth = {best_depth},\n",
    "min_samples_split = {best_samples_split},\n",
    "min_samples_leaf = {best_samples_leaf}''')"
   ]
  },
  {
   "cell_type": "markdown",
   "metadata": {},
   "source": [
    "O modelo de Árvore de Classificação teve ligeira melhora no F1 Score do conjunto de validação: de *0.558* para *0.579*, com hiperparâmetros finais de:\n",
    "\n",
    "- `criterion` = 'entropy';\n",
    "- `max_depth` = 4,\n",
    "- `min_samples_split` = 2;\n",
    "- `min_samples_leaf` = 2;\n",
    "- `class_weight` = 'balanced'.\n",
    "\n",
    "### Floresta Aleatória"
   ]
  },
  {
   "cell_type": "code",
   "execution_count": 30,
   "metadata": {},
   "outputs": [
    {
     "name": "stdout",
     "output_type": "stream",
     "text": [
      "F1 Score do melhor modelo no conjunto de treinamento: 0.5054713804713805\n",
      "F1 Score do melhor modelo no conjunto de validação: 0.5705024311183144, hiperparâmetros:\n",
      "n_estimators = 17,\n",
      "criterion = entropy,\n",
      "max_depth = 6,\n",
      "min_samples_split = 2,\n",
      "min_samples_leaf = 2\n"
     ]
    }
   ],
   "source": [
    "# Treinando novo modelo equilibrando o peso das classes.\n",
    "forest_best_est = 0\n",
    "forest_best_score = 0\n",
    "forest_best_criterion = ''\n",
    "forest_best_depth = 0\n",
    "forest_best_samples_split = 0\n",
    "forest_best_samples_leaf = 0\n",
    "for est in range(9,18):\n",
    "    for criterion in ['gini', 'entropy']:\n",
    "        for depth in range(6,12):\n",
    "            for sample_split in range(2,5):\n",
    "                for sample_leaf in range(2,5):\n",
    "                    model = RandomForestClassifier(\n",
    "                        n_estimators=est,\n",
    "                        criterion=criterion,\n",
    "                        max_depth=depth,\n",
    "                        min_samples_split=sample_split,\n",
    "                        min_samples_leaf=sample_leaf,\n",
    "                        class_weight='balanced',\n",
    "                        random_state=3333\n",
    "                    )\n",
    "                    model.fit(features_balanced, target_balanced)\n",
    "                    train_predict = model.predict(features)\n",
    "                    train_score = f1_score(target, train_predict)\n",
    "                    valid_predict = model.predict(features_valid)\n",
    "                    valid_score = f1_score(target_valid, valid_predict)\n",
    "                    if valid_score > forest_best_score:\n",
    "                        forest_best_score = valid_score\n",
    "                        forest_best_est = est\n",
    "                        forest_best_criterion = criterion\n",
    "                        forest_best_depth = depth\n",
    "                        forest_best_samples_split = sample_split\n",
    "                        forest_best_samples_leaf = sample_leaf\n",
    "                        \n",
    "print('F1 Score do melhor modelo no conjunto de treinamento:', train_score)\n",
    "print(f'''F1 Score do melhor modelo no conjunto de validação: {forest_best_score}, hiperparâmetros:\n",
    "n_estimators = {forest_best_est},\n",
    "criterion = {forest_best_criterion},\n",
    "max_depth = {forest_best_depth},\n",
    "min_samples_split = {forest_best_samples_split},\n",
    "min_samples_leaf = {forest_best_samples_leaf}''')"
   ]
  },
  {
   "cell_type": "markdown",
   "metadata": {},
   "source": [
    "O modelo de Floresta Aleatória teve desempenho inferior ao de Árvore de Classificação, com F1 Score de *0.570*. Hiperparâmetros finais:\n",
    "\n",
    "- `n_estimators` = 17,\n",
    "- `criterion` = 'entropy';\n",
    "- `max_depth` = 6,\n",
    "- `min_samples_split` = 2;\n",
    "- `min_samples_leaf` = 2,\n",
    "- `class_weight` = 'balanced'.\n",
    "\n",
    "### Regressão Logística"
   ]
  },
  {
   "cell_type": "code",
   "execution_count": 31,
   "metadata": {},
   "outputs": [
    {
     "name": "stdout",
     "output_type": "stream",
     "text": [
      "F1 Score do melhor modelo no conjunto de treinamento: 0.38738218888247733\n",
      "F1 Score do melhor modelo no conjunto de validação: 0.4886363636363637, hiperparâmetros:\n",
      "solver = newton-cg\n"
     ]
    }
   ],
   "source": [
    "# Treinando novo modelo equilibrando o peso das classes.\n",
    "warnings.filterwarnings('ignore', category=ConvergenceWarning)\n",
    "\n",
    "log_best_score = 0\n",
    "log_best_solver = ''\n",
    "for solver in ['lbfgs','liblinear','newton-cg','sag','saga']:\n",
    "    model = LogisticRegression(\n",
    "        solver=solver,\n",
    "        class_weight='balanced',\n",
    "        random_state=3333\n",
    "    )\n",
    "    model.fit(features_balanced, target_balanced)\n",
    "    train_predict = model.predict(features)\n",
    "    train_score = f1_score(target, train_predict)\n",
    "    valid_predict = model.predict(features_valid)\n",
    "    valid_score = f1_score(target_valid, valid_predict)\n",
    "    if valid_score > log_best_score:\n",
    "        log_best_score = valid_score\n",
    "        log_best_solver = solver\n",
    "        \n",
    "print('F1 Score do melhor modelo no conjunto de treinamento:', train_score)\n",
    "print(f'''F1 Score do melhor modelo no conjunto de validação: {log_best_score}, hiperparâmetros:\n",
    "solver = {log_best_solver}''')"
   ]
  },
  {
   "cell_type": "markdown",
   "metadata": {},
   "source": [
    "O modelo de Regressão Logística teve maior melhora no F1 Score do conjunto de validação: de *0.300* para *0.489*, com hiperparâmetros finais de:\n",
    "\n",
    "- `solver` = 'newton-cg';\n",
    "- `class_weight` = 'balanced'.\n",
    "\n",
    "## Procurando o melhor modelo\n",
    "\n",
    "Como os resultados dos novos modelos foram inferiores, vamos testar utilizar apenas upsample ou apenas downsample.\n",
    "\n",
    "### Apenas com upsample"
   ]
  },
  {
   "cell_type": "code",
   "execution_count": 32,
   "metadata": {},
   "outputs": [
    {
     "name": "stdout",
     "output_type": "stream",
     "text": [
      "F1 Score do melhor modelo no conjunto de treinamento: 0.6683260734287493\n",
      "F1 Score do melhor modelo no conjunto de validação: 0.5866666666666667, hiperparâmetros:\n",
      "criterion = entropy,\n",
      "max_depth = 6,\n",
      "min_samples_split = 2,\n",
      "min_samples_leaf = 11\n"
     ]
    }
   ],
   "source": [
    "best_score = 0\n",
    "best_criterion = \"\"\n",
    "best_depth = 0\n",
    "best_samples_split = 0\n",
    "best_samples_leaf = 0\n",
    "for criterion in ['gini', 'entropy']:\n",
    "    for depth in range(1,11):\n",
    "        for sample_split in range(2,12):\n",
    "            for sample_leaf in range(2,12):\n",
    "                model = DecisionTreeClassifier(\n",
    "                    criterion=criterion,\n",
    "                    max_depth=depth,\n",
    "                    min_samples_split=sample_split,\n",
    "                    min_samples_leaf=sample_leaf,\n",
    "                    class_weight='balanced',\n",
    "                    random_state=3333\n",
    "                )\n",
    "                model.fit(features_upsampled, target_upsampled)\n",
    "                train_predict = model.predict(features)\n",
    "                train_score = f1_score(target, train_predict)\n",
    "                valid_predict = model.predict(features_valid)\n",
    "                valid_score = f1_score(target_valid, valid_predict)\n",
    "                if valid_score > best_score:\n",
    "                    best_score = valid_score\n",
    "                    best_criterion = criterion\n",
    "                    best_depth = depth\n",
    "                    best_samples_split = sample_split\n",
    "                    best_samples_leaf = sample_leaf\n",
    "                    \n",
    "print('F1 Score do melhor modelo no conjunto de treinamento:', train_score)\n",
    "print(f'''F1 Score do melhor modelo no conjunto de validação: {best_score}, hiperparâmetros:\n",
    "criterion = {best_criterion},\n",
    "max_depth = {best_depth},\n",
    "min_samples_split = {best_samples_split},\n",
    "min_samples_leaf = {best_samples_leaf}''')"
   ]
  },
  {
   "cell_type": "markdown",
   "metadata": {},
   "source": [
    "O novo modelo treinado apenas com conjunto de dados upsampled apresentou melhor desempenho: de *0.581* para *0.586*, com os seguintes hiperparâmetros:\n",
    "\n",
    "- `criterion` = 'entropy';\n",
    "- `max_depth` = 6;\n",
    "- `min_samples_split` = 2;\n",
    "- `min_samples_leaf` = 11;\n",
    "- `class_weight` = 'balanced.\n",
    "\n",
    "### Apenas com downsample"
   ]
  },
  {
   "cell_type": "code",
   "execution_count": 33,
   "metadata": {},
   "outputs": [
    {
     "name": "stdout",
     "output_type": "stream",
     "text": [
      "F1 Score do melhor modelo no conjunto de treinamento: 0.5683453237410072\n",
      "F1 Score do melhor modelo no conjunto de validação: 0.575152041702867, hiperparâmetros:\n",
      "criterion = entropy,\n",
      "max_depth = 5,\n",
      "min_samples_split = 2,\n",
      "min_samples_leaf = 2\n"
     ]
    }
   ],
   "source": [
    "best_score = 0\n",
    "best_criterion = \"\"\n",
    "best_depth = 0\n",
    "best_samples_split = 0\n",
    "best_samples_leaf = 0\n",
    "for criterion in ['gini', 'entropy']:\n",
    "    for depth in range(1,11):\n",
    "        for sample_split in range(2,12):\n",
    "            for sample_leaf in range(2,12):\n",
    "                model = DecisionTreeClassifier(\n",
    "                    criterion=criterion,\n",
    "                    max_depth=depth,\n",
    "                    min_samples_split=sample_split,\n",
    "                    min_samples_leaf=sample_leaf,\n",
    "                    class_weight='balanced',\n",
    "                    random_state=3333\n",
    "                )\n",
    "                model.fit(features_downsampled, target_downsampled)\n",
    "                train_predict = model.predict(features)\n",
    "                train_score = f1_score(target, train_predict)\n",
    "                valid_predict = model.predict(features_valid)\n",
    "                valid_score = f1_score(target_valid, valid_predict)\n",
    "                if valid_score > best_score:\n",
    "                    best_score = valid_score\n",
    "                    best_criterion = criterion\n",
    "                    best_depth = depth\n",
    "                    best_samples_split = sample_split\n",
    "                    best_samples_leaf = sample_leaf\n",
    "                    \n",
    "print('F1 Score do melhor modelo no conjunto de treinamento:', train_score)\n",
    "print(f'''F1 Score do melhor modelo no conjunto de validação: {best_score}, hiperparâmetros:\n",
    "criterion = {best_criterion},\n",
    "max_depth = {best_depth},\n",
    "min_samples_split = {best_samples_split},\n",
    "min_samples_leaf = {best_samples_leaf}''')"
   ]
  },
  {
   "cell_type": "markdown",
   "metadata": {},
   "source": [
    "O novo modelo treinado apenas com conjunto de dados downsampled apresentou pior desempenho: de *0.586* para *0.575*, com os seguintes hiperparâmetros:\n",
    "\n",
    "- `criterion` = 'entropy';\n",
    "- `max_depth` = 5;\n",
    "- `min_samples_split` = 2;\n",
    "- `min_samples_leaf` = 2;\n",
    "- `class_weight` = 'balanced.\n",
    "\n",
    "Seguiremos o treinamento dos modelos utilizando apenas conjuntos de dados upsampled.\n",
    "\n",
    "### Floresta Aleatória"
   ]
  },
  {
   "cell_type": "code",
   "execution_count": 34,
   "metadata": {},
   "outputs": [
    {
     "name": "stdout",
     "output_type": "stream",
     "text": [
      "F1 Score do melhor modelo no conjunto de treinamento: 0.8204186558942345\n",
      "F1 Score do melhor modelo no conjunto de validação: 0.6279569892473118, hiperparâmetros:\n",
      "n_estimators = 15,\n",
      "criterion = entropy,\n",
      "max_depth = 11,\n",
      "min_samples_split = 2,\n",
      "min_samples_leaf = 4\n"
     ]
    }
   ],
   "source": [
    "forest_best_est = 0\n",
    "forest_best_score = 0\n",
    "forest_best_criterion = ''\n",
    "forest_best_depth = 0\n",
    "forest_best_samples_split = 0\n",
    "forest_best_samples_leaf = 0\n",
    "for est in range(9,18):\n",
    "    for criterion in ['gini', 'entropy']:\n",
    "        for depth in range(6,12):\n",
    "            for sample_split in range(2,5):\n",
    "                for sample_leaf in range(2,5):\n",
    "                    model = RandomForestClassifier(\n",
    "                        n_estimators=est,\n",
    "                        criterion=criterion,\n",
    "                        max_depth=depth,\n",
    "                        min_samples_split=sample_split,\n",
    "                        min_samples_leaf=sample_leaf,\n",
    "                        class_weight='balanced',\n",
    "                        random_state=3333\n",
    "                    )\n",
    "                    model.fit(features_upsampled, target_upsampled)\n",
    "                    train_predict = model.predict(features)\n",
    "                    train_score = f1_score(target, train_predict)\n",
    "                    valid_predict = model.predict(features_valid)\n",
    "                    valid_score = f1_score(target_valid, valid_predict)\n",
    "                    if valid_score > forest_best_score:\n",
    "                        forest_best_score = valid_score\n",
    "                        forest_best_est = est\n",
    "                        forest_best_criterion = criterion\n",
    "                        forest_best_depth = depth\n",
    "                        forest_best_samples_split = sample_split\n",
    "                        forest_best_samples_leaf = sample_leaf\n",
    "                        \n",
    "print('F1 Score do melhor modelo no conjunto de treinamento:', train_score)\n",
    "print(f'''F1 Score do melhor modelo no conjunto de validação: {forest_best_score}, hiperparâmetros:\n",
    "n_estimators = {forest_best_est},\n",
    "criterion = {forest_best_criterion},\n",
    "max_depth = {forest_best_depth},\n",
    "min_samples_split = {forest_best_samples_split},\n",
    "min_samples_leaf = {forest_best_samples_leaf}''')"
   ]
  },
  {
   "cell_type": "markdown",
   "metadata": {},
   "source": [
    "O novo modelo treinado apenas com conjunto de dados upsampled apresentou melhor desempenho: de *0.550* para *0.627*, com os seguintes hiperparâmetros:\n",
    "\n",
    "- `n_estimators` = 15;\n",
    "- `criterion` = 'entropy';\n",
    "- `max_depth` = 11;\n",
    "- `min_samples_split` = 2;\n",
    "- `min_samples_leaf` = 4;\n",
    "- `class_weight` = 'balanced.\n",
    "\n",
    "### Regressão Logística"
   ]
  },
  {
   "cell_type": "code",
   "execution_count": 35,
   "metadata": {},
   "outputs": [
    {
     "name": "stdout",
     "output_type": "stream",
     "text": [
      "F1 Score do melhor modelo no conjunto de treinamento: 0.4118821767348977\n",
      "F1 Score do melhor modelo no conjunto de validação: 0.4937027707808564, hiperparâmetros:\n",
      "solver = newton-cg\n"
     ]
    }
   ],
   "source": [
    "warnings.filterwarnings('ignore', category=ConvergenceWarning)\n",
    "\n",
    "log_best_score = 0\n",
    "log_best_solver = ''\n",
    "for solver in ['lbfgs','liblinear','newton-cg','sag','saga']:\n",
    "    model = LogisticRegression(\n",
    "        solver=solver,\n",
    "        class_weight='balanced',\n",
    "        random_state=3333\n",
    "    )\n",
    "    model.fit(features_upsampled, target_upsampled)\n",
    "    train_predict = model.predict(features)\n",
    "    train_score = f1_score(target, train_predict)\n",
    "    valid_predict = model.predict(features_valid)\n",
    "    valid_score = f1_score(target_valid, valid_predict)\n",
    "    if valid_score > log_best_score:\n",
    "        log_best_score = valid_score\n",
    "        log_best_solver = solver\n",
    "        \n",
    "print('F1 Score do melhor modelo no conjunto de treinamento:', train_score)\n",
    "print(f'''F1 Score do melhor modelo no conjunto de validação: {log_best_score}, hiperparâmetros:\n",
    "solver = {log_best_solver}''')"
   ]
  },
  {
   "cell_type": "markdown",
   "metadata": {},
   "source": [
    "Já modelo de Regressão Logística teve ligeira melhora no F1 Score do conjunto de validação: era *0.489* passou para *0.493*, com hiperparâmetros finais de:\n",
    "\n",
    "- `solver` = 'newton-cg';\n",
    "- `class_weight` = 'balanced'.\n",
    "\n",
    "## Usando o conjunto de testes"
   ]
  },
  {
   "cell_type": "code",
   "execution_count": 36,
   "metadata": {},
   "outputs": [
    {
     "name": "stdout",
     "output_type": "stream",
     "text": [
      "F1 Score do melhor modelo no conjunto de teste: 0.6053550640279394\n"
     ]
    }
   ],
   "source": [
    "# Utilizando o conjunto de testes no modelo mais eficaz.\n",
    "model = RandomForestClassifier(\n",
    "    n_estimators=15,\n",
    "    criterion='entropy',\n",
    "    max_depth=12,\n",
    "    min_samples_split=2,\n",
    "    min_samples_leaf=4,\n",
    "    class_weight='balanced',\n",
    "    random_state=3333)\n",
    "\n",
    "model.fit(features_upsampled, target_upsampled)\n",
    "test_predict = model.predict(features_test)\n",
    "test_score = f1_score(target_test, test_predict)\n",
    "\n",
    "print('F1 Score do melhor modelo no conjunto de teste:', test_score)"
   ]
  },
  {
   "cell_type": "markdown",
   "metadata": {},
   "source": [
    "Conseguimos bater o F1-Score mínimo exigido, com *0.605*."
   ]
  },
  {
   "cell_type": "code",
   "execution_count": 37,
   "metadata": {},
   "outputs": [
    {
     "name": "stdout",
     "output_type": "stream",
     "text": [
      "F1 Score do melhor modelo no conjunto de teste: 0.6133004926108374\n"
     ]
    }
   ],
   "source": [
    "# Testando pequenas alterações manuais.\n",
    "model = RandomForestClassifier(\n",
    "    n_estimators=25,\n",
    "    criterion='entropy',\n",
    "    max_depth=18,\n",
    "    min_samples_split=2,\n",
    "    min_samples_leaf=4,\n",
    "    class_weight='balanced',\n",
    "    random_state=3333)\n",
    "\n",
    "model.fit(features_upsampled, target_upsampled)\n",
    "test_predict = model.predict(features_test)\n",
    "test_score = f1_score(target_test, test_predict)\n",
    "\n",
    "print('F1 Score do melhor modelo no conjunto de teste:', test_score)"
   ]
  },
  {
   "cell_type": "markdown",
   "metadata": {},
   "source": [
    "Após pequenas alterações foi possível alcançar o F1-Score de *0.613*, o melhor modelo alcançado tem os seguintes hiperparâmetros:\n",
    "\n",
    "- `RandomForestClassifier`;\n",
    "- `n_estimators` = 25;\n",
    "- `criterion` = 'entropy';\n",
    "- `max_depth` = 18;\n",
    "- `min_samples_split` = 2;\n",
    "- `min_samples_leaf` = 4;\n",
    "- `class_weight` = 'balanced';\n",
    "- `random_state` = 3333.\n",
    "\n",
    "## Examinando os valores AUC-ROC"
   ]
  },
  {
   "cell_type": "code",
   "execution_count": 38,
   "metadata": {},
   "outputs": [
    {
     "name": "stdout",
     "output_type": "stream",
     "text": [
      "0.8494526447286236\n"
     ]
    }
   ],
   "source": [
    "probabilities_test = model.predict_proba(features_test)\n",
    "probabilities_one_test = probabilities_test[:, 1]\n",
    "\n",
    "auc_roc = roc_auc_score(target_test, probabilities_one_test)\n",
    "print(auc_roc)"
   ]
  },
  {
   "cell_type": "code",
   "execution_count": 42,
   "metadata": {},
   "outputs": [
    {
     "data": {
      "image/png": "[encoded data removed]",
      "text/plain": [
       "<Figure size 640x480 with 1 Axes>"
      ]
     },
     "metadata": {},
     "output_type": "display_data"
    }
   ],
   "source": [
    "# Imprimindo o gráico da Curva ROC\n",
    "fpr, tpr, thresholds = roc_curve(target_test, probabilities_one_test)\n",
    "\n",
    "plt.figure()\n",
    "plt.plot(fpr, tpr, label=f'Curva ROC (AUC = {auc_roc:.2f})')\n",
    "plt.plot([0, 1], [0, 1], linestyle='--')\n",
    "plt.xlim([0.0, 1.0])\n",
    "plt.ylim([0.0, 1.0])\n",
    "plt.xlabel('Taxa de Falsos Positivos (False Positive Rate)')\n",
    "plt.ylabel('Taxa de Verdadeiros Positivos (True Positive Rate)')\n",
    "plt.title('Curva ROC')\n",
    "plt.legend(loc='lower right')\n",
    "\n",
    "plt.show()"
   ]
  },
  {
   "cell_type": "markdown",
   "metadata": {},
   "source": [
    "<div class=\"alert alert-block alert-success\">\n",
    "\n",
    "<b>Comentário: </b> <a class=\"tocSkip\"></a>\n",
    "\n",
    "Muito bom! A curva ROC é uma forma muito boa de validar modelos\n",
    "</div>"
   ]
  },
  {
   "cell_type": "markdown",
   "metadata": {},
   "source": [
    "O modelo final possui um valor de *Area Under the Curve* muito bom, de aproximadamente 0.85!\n",
    "\n",
    "## Tirando a Prova Real"
   ]
  },
  {
   "cell_type": "code",
   "execution_count": 43,
   "metadata": {},
   "outputs": [
    {
     "name": "stdout",
     "output_type": "stream",
     "text": [
      "0.0    0.8005\n",
      "1.0    0.1995\n",
      "Name: Exited, dtype: float64\n"
     ]
    }
   ],
   "source": [
    "# Tirando as frequências relativas do target.\n",
    "class_frequency = target_test.value_counts(normalize=True)\n",
    "print(class_frequency)"
   ]
  },
  {
   "cell_type": "code",
   "execution_count": 44,
   "metadata": {
    "scrolled": true
   },
   "outputs": [
    {
     "name": "stdout",
     "output_type": "stream",
     "text": [
      "0.0    0.7935\n",
      "1.0    0.2065\n",
      "dtype: float64\n"
     ]
    }
   ],
   "source": [
    "# Tirando as frequências relativas do modelo treinado.\n",
    "predicted_test = pd.Series(model.predict(features_test))\n",
    "\n",
    "model_frequency = predicted_test.value_counts(normalize=True)\n",
    "print(model_frequency)"
   ]
  },
  {
   "cell_type": "markdown",
   "metadata": {},
   "source": [
    "As frequências relativas de cada Classe de predições do modelo são compatíveis com as originais, o modelo funciona corretamente!\n",
    "\n",
    "## Conclusão\n",
    "\n",
    "O objetivo deste projeto foi desenvolver um modelo de machine learning para o banco *BetaBank*, para prever os clientes com possibilidade de deixaro banco, com F1-Score mínimo de 0,56 no conjunto de testes. Após analisar os dados e testar diferentes algoritmos de classificação, consegui atingir essa meta com sucesso.\n",
    "\n",
    "### Resultados dos Modelos\n",
    "\n",
    "**Árvores de Decisão:**\n",
    "- F1-Score sem correção do desequilíbrio de clases: **0.558**\n",
    "- F1-Score com as classes equilibradas: **0.579**\n",
    "- F1-Score apenas com aplicação de Upsample: **0.586**\n",
    "\n",
    "**Floresta Aleatória:**\n",
    "- F1-Score sem correção do desequilíbrio de clases: **0.570**\n",
    "- F1-Score com as classes equilibradas: **0.570**\n",
    "- F1-Score apenas com aplicação de Upsample: **0.627**\n",
    "\n",
    "**Regressão Logística:**\n",
    "- F1-Score sem correção do desequilíbrio de clases: **0.300**\n",
    "- F1-Score com as classes equilibradas: **0.488**\n",
    "- F1-Score apenas com aplicação de Upsample: **0.493**\n",
    "\n",
    "### Escolha do Melhor Modelo\n",
    "\n",
    "Dentre os modelos testados, o modelo de *Floresta Aleatória* apresentou o melhor desempenho, com F1-Score de **0.627**. Além disso, mostrou-se consistente e estável, com *Area Under The Curve* de **0.85** e com previsões nas mesmas proporções das dos dados fornecidos.\n",
    "\n",
    "### Considerações Finais\n",
    "\n",
    "Com base nos resultados obtidos, recomendo o uso do modelo de **Floresta Aleatória** para recomendar o plano ideal para os clientes da Megaline. Este modelo não apenas atingiu o objetivo de F1-Score mínim, como também mostrou ser estável e capaz de generalizar para novos dados, o que é crucial para o sucesso da aplicação em um ambiente real.\n",
    "\n",
    "#### Hiperparâmetros do modelo recomendado:\n",
    "\n",
    "- `RandomForestClassifier`;\n",
    "- `n_estimators` = 25;\n",
    "- `criterion` = 'entropy';\n",
    "- `max_depth` = 18;\n",
    "- `min_samples_split` = 2;\n",
    "- `min_samples_leaf` = 4;\n",
    "- `class_weight` = 'balanced';\n",
    "- `random_state` = 3333."
   ]
  },
  {
   "cell_type": "code",
   "execution_count": null,
   "metadata": {},
   "outputs": [],
   "source": []
  }
 ],
 "metadata": {
  "ExecuteTimeLog": [
   {
    "duration": 219,
    "start_time": "2024-08-29T22:45:58.762Z"
   },
   {
    "duration": 36,
    "start_time": "2024-08-29T22:50:19.801Z"
   },
   {
    "duration": 15,
    "start_time": "2024-08-29T22:50:50.112Z"
   },
   {
    "duration": 15,
    "start_time": "2024-08-29T22:51:31.970Z"
   },
   {
    "duration": 14,
    "start_time": "2024-08-29T22:52:15.262Z"
   },
   {
    "duration": 11,
    "start_time": "2024-08-29T22:52:34.977Z"
   },
   {
    "duration": 11,
    "start_time": "2024-08-29T22:52:47.763Z"
   },
   {
    "duration": 11,
    "start_time": "2024-08-29T23:25:09.043Z"
   },
   {
    "duration": 7,
    "start_time": "2024-08-29T23:55:55.404Z"
   },
   {
    "duration": 7,
    "start_time": "2024-08-30T00:05:04.025Z"
   },
   {
    "duration": 7,
    "start_time": "2024-08-30T00:08:29.938Z"
   },
   {
    "duration": 7,
    "start_time": "2024-08-30T00:11:55.950Z"
   },
   {
    "duration": 8,
    "start_time": "2024-08-30T00:14:48.119Z"
   },
   {
    "duration": 917,
    "start_time": "2024-08-30T01:46:33.737Z"
   },
   {
    "duration": 21,
    "start_time": "2024-08-30T01:46:34.656Z"
   },
   {
    "duration": 11,
    "start_time": "2024-08-30T01:46:34.679Z"
   },
   {
    "duration": 27,
    "start_time": "2024-08-30T01:46:34.693Z"
   },
   {
    "duration": 15,
    "start_time": "2024-08-30T01:46:34.724Z"
   },
   {
    "duration": 7,
    "start_time": "2024-08-30T01:46:34.742Z"
   },
   {
    "duration": 7,
    "start_time": "2024-08-30T01:46:34.751Z"
   },
   {
    "duration": 9,
    "start_time": "2024-08-30T01:46:34.761Z"
   },
   {
    "duration": 38,
    "start_time": "2024-08-30T01:46:34.772Z"
   },
   {
    "duration": 8,
    "start_time": "2024-08-30T01:46:34.812Z"
   },
   {
    "duration": 4,
    "start_time": "2024-08-30T01:49:02.626Z"
   },
   {
    "duration": 9,
    "start_time": "2024-08-30T01:55:10.720Z"
   },
   {
    "duration": 12,
    "start_time": "2024-08-30T01:55:42.153Z"
   },
   {
    "duration": 6,
    "start_time": "2024-08-30T01:58:19.300Z"
   },
   {
    "duration": 3,
    "start_time": "2024-08-30T01:58:57.238Z"
   },
   {
    "duration": 9,
    "start_time": "2024-08-30T01:59:06.277Z"
   },
   {
    "duration": 419,
    "start_time": "2024-08-30T02:05:40.415Z"
   },
   {
    "duration": 42,
    "start_time": "2024-08-30T02:06:19.331Z"
   },
   {
    "duration": 2078,
    "start_time": "2024-08-30T02:09:01.225Z"
   },
   {
    "duration": 117,
    "start_time": "2024-08-30T02:10:03.076Z"
   },
   {
    "duration": 4,
    "start_time": "2024-08-30T02:10:32.502Z"
   },
   {
    "duration": 93,
    "start_time": "2024-08-30T02:10:37.498Z"
   },
   {
    "duration": 4,
    "start_time": "2024-08-30T02:20:35.623Z"
   },
   {
    "duration": 2,
    "start_time": "2024-08-30T02:22:25.980Z"
   },
   {
    "duration": 4,
    "start_time": "2024-08-30T02:23:41.819Z"
   },
   {
    "duration": 4,
    "start_time": "2024-08-30T02:30:07.554Z"
   },
   {
    "duration": 3,
    "start_time": "2024-08-30T02:32:50.746Z"
   },
   {
    "duration": 3,
    "start_time": "2024-08-30T02:33:45.707Z"
   },
   {
    "duration": 4,
    "start_time": "2024-08-30T02:34:28.623Z"
   },
   {
    "duration": 2740,
    "start_time": "2024-09-03T00:25:27.604Z"
   },
   {
    "duration": 28,
    "start_time": "2024-09-03T00:25:30.346Z"
   },
   {
    "duration": 11,
    "start_time": "2024-09-03T00:25:30.375Z"
   },
   {
    "duration": 12,
    "start_time": "2024-09-03T00:25:30.388Z"
   },
   {
    "duration": 11,
    "start_time": "2024-09-03T00:25:30.402Z"
   },
   {
    "duration": 7,
    "start_time": "2024-09-03T00:25:30.414Z"
   },
   {
    "duration": 6,
    "start_time": "2024-09-03T00:25:30.423Z"
   },
   {
    "duration": 6,
    "start_time": "2024-09-03T00:25:30.430Z"
   },
   {
    "duration": 6,
    "start_time": "2024-09-03T00:25:30.437Z"
   },
   {
    "duration": 45,
    "start_time": "2024-09-03T00:25:30.446Z"
   },
   {
    "duration": 2,
    "start_time": "2024-09-03T00:25:30.493Z"
   },
   {
    "duration": 3,
    "start_time": "2024-09-03T00:25:30.497Z"
   },
   {
    "duration": 7,
    "start_time": "2024-09-03T00:25:30.502Z"
   },
   {
    "duration": 2,
    "start_time": "2024-09-03T00:25:30.511Z"
   },
   {
    "duration": 72,
    "start_time": "2024-09-03T00:25:30.515Z"
   },
   {
    "duration": 102,
    "start_time": "2024-09-03T00:25:30.588Z"
   },
   {
    "duration": 4,
    "start_time": "2024-09-03T00:25:30.692Z"
   },
   {
    "duration": 4,
    "start_time": "2024-09-03T00:25:30.698Z"
   },
   {
    "duration": 3,
    "start_time": "2024-09-03T00:25:30.703Z"
   },
   {
    "duration": 3,
    "start_time": "2024-09-03T00:25:30.709Z"
   },
   {
    "duration": 3,
    "start_time": "2024-09-03T00:25:30.714Z"
   },
   {
    "duration": 277,
    "start_time": "2024-09-03T00:35:10.223Z"
   },
   {
    "duration": 52926,
    "start_time": "2024-09-03T00:43:14.419Z"
   },
   {
    "duration": 52937,
    "start_time": "2024-09-03T00:44:32.802Z"
   },
   {
    "duration": 53600,
    "start_time": "2024-09-03T00:47:03.752Z"
   },
   {
    "duration": 5,
    "start_time": "2024-09-03T00:53:33.562Z"
   },
   {
    "duration": 3,
    "start_time": "2024-09-03T00:53:52.104Z"
   },
   {
    "duration": 70,
    "start_time": "2024-09-03T00:59:23.704Z"
   },
   {
    "duration": 67495,
    "start_time": "2024-09-03T01:00:56.144Z"
   },
   {
    "duration": 83752,
    "start_time": "2024-09-03T01:03:38.528Z"
   },
   {
    "duration": 49564,
    "start_time": "2024-09-03T01:09:28.056Z"
   },
   {
    "duration": 84936,
    "start_time": "2024-09-03T01:10:51.131Z"
   },
   {
    "duration": 2165,
    "start_time": "2024-09-03T01:14:23.121Z"
   },
   {
    "duration": 4,
    "start_time": "2024-09-03T01:25:33.927Z"
   },
   {
    "duration": 1967,
    "start_time": "2024-09-03T01:26:23.420Z"
   },
   {
    "duration": 200,
    "start_time": "2024-09-03T01:40:23.802Z"
   },
   {
    "duration": 55,
    "start_time": "2024-09-03T01:43:00.439Z"
   },
   {
    "duration": 7,
    "start_time": "2024-09-03T01:43:09.643Z"
   },
   {
    "duration": 4,
    "start_time": "2024-09-03T01:44:56.232Z"
   },
   {
    "duration": 932,
    "start_time": "2024-09-03T01:45:01.772Z"
   },
   {
    "duration": 15,
    "start_time": "2024-09-03T01:45:02.706Z"
   },
   {
    "duration": 11,
    "start_time": "2024-09-03T01:45:02.722Z"
   },
   {
    "duration": 19,
    "start_time": "2024-09-03T01:45:02.736Z"
   },
   {
    "duration": 36,
    "start_time": "2024-09-03T01:45:02.757Z"
   },
   {
    "duration": 7,
    "start_time": "2024-09-03T01:45:02.796Z"
   },
   {
    "duration": 9,
    "start_time": "2024-09-03T01:45:02.805Z"
   },
   {
    "duration": 8,
    "start_time": "2024-09-03T01:45:02.816Z"
   },
   {
    "duration": 10,
    "start_time": "2024-09-03T01:45:02.827Z"
   },
   {
    "duration": 7,
    "start_time": "2024-09-03T01:45:02.843Z"
   },
   {
    "duration": 2,
    "start_time": "2024-09-03T01:45:02.853Z"
   },
   {
    "duration": 5,
    "start_time": "2024-09-03T01:45:02.887Z"
   },
   {
    "duration": 8,
    "start_time": "2024-09-03T01:45:02.894Z"
   },
   {
    "duration": 3,
    "start_time": "2024-09-03T01:45:02.904Z"
   },
   {
    "duration": 7,
    "start_time": "2024-09-03T01:45:02.909Z"
   },
   {
    "duration": 4,
    "start_time": "2024-09-03T01:45:02.917Z"
   },
   {
    "duration": 499,
    "start_time": "2024-09-03T01:45:02.923Z"
   },
   {
    "duration": 0,
    "start_time": "2024-09-03T01:45:03.424Z"
   },
   {
    "duration": 0,
    "start_time": "2024-09-03T01:45:03.425Z"
   },
   {
    "duration": 0,
    "start_time": "2024-09-03T01:45:03.427Z"
   },
   {
    "duration": 0,
    "start_time": "2024-09-03T01:45:03.428Z"
   },
   {
    "duration": 0,
    "start_time": "2024-09-03T01:45:03.430Z"
   },
   {
    "duration": 0,
    "start_time": "2024-09-03T01:45:03.431Z"
   },
   {
    "duration": 0,
    "start_time": "2024-09-03T01:45:03.432Z"
   },
   {
    "duration": 0,
    "start_time": "2024-09-03T01:45:03.433Z"
   },
   {
    "duration": 964,
    "start_time": "2024-09-03T01:46:43.029Z"
   },
   {
    "duration": 15,
    "start_time": "2024-09-03T01:46:43.996Z"
   },
   {
    "duration": 9,
    "start_time": "2024-09-03T01:46:44.013Z"
   },
   {
    "duration": 13,
    "start_time": "2024-09-03T01:46:44.024Z"
   },
   {
    "duration": 11,
    "start_time": "2024-09-03T01:46:44.039Z"
   },
   {
    "duration": 34,
    "start_time": "2024-09-03T01:46:44.052Z"
   },
   {
    "duration": 7,
    "start_time": "2024-09-03T01:46:44.088Z"
   },
   {
    "duration": 6,
    "start_time": "2024-09-03T01:46:44.097Z"
   },
   {
    "duration": 7,
    "start_time": "2024-09-03T01:46:44.105Z"
   },
   {
    "duration": 6,
    "start_time": "2024-09-03T01:46:44.115Z"
   },
   {
    "duration": 3,
    "start_time": "2024-09-03T01:46:44.122Z"
   },
   {
    "duration": 4,
    "start_time": "2024-09-03T01:46:44.126Z"
   },
   {
    "duration": 8,
    "start_time": "2024-09-03T01:46:44.131Z"
   },
   {
    "duration": 47,
    "start_time": "2024-09-03T01:46:44.140Z"
   },
   {
    "duration": 6,
    "start_time": "2024-09-03T01:46:44.188Z"
   },
   {
    "duration": 7,
    "start_time": "2024-09-03T01:46:44.195Z"
   },
   {
    "duration": 111,
    "start_time": "2024-09-03T01:46:44.203Z"
   },
   {
    "duration": 233,
    "start_time": "2024-09-03T01:46:44.316Z"
   },
   {
    "duration": 0,
    "start_time": "2024-09-03T01:46:44.551Z"
   },
   {
    "duration": 0,
    "start_time": "2024-09-03T01:46:44.552Z"
   },
   {
    "duration": 0,
    "start_time": "2024-09-03T01:46:44.553Z"
   },
   {
    "duration": 0,
    "start_time": "2024-09-03T01:46:44.555Z"
   },
   {
    "duration": 0,
    "start_time": "2024-09-03T01:46:44.555Z"
   },
   {
    "duration": 0,
    "start_time": "2024-09-03T01:46:44.557Z"
   },
   {
    "duration": 0,
    "start_time": "2024-09-03T01:46:44.558Z"
   },
   {
    "duration": 919,
    "start_time": "2024-09-03T01:47:05.364Z"
   },
   {
    "duration": 14,
    "start_time": "2024-09-03T01:47:06.286Z"
   },
   {
    "duration": 10,
    "start_time": "2024-09-03T01:47:06.302Z"
   },
   {
    "duration": 12,
    "start_time": "2024-09-03T01:47:06.314Z"
   },
   {
    "duration": 11,
    "start_time": "2024-09-03T01:47:06.328Z"
   },
   {
    "duration": 6,
    "start_time": "2024-09-03T01:47:06.341Z"
   },
   {
    "duration": 38,
    "start_time": "2024-09-03T01:47:06.348Z"
   },
   {
    "duration": 7,
    "start_time": "2024-09-03T01:47:06.388Z"
   },
   {
    "duration": 6,
    "start_time": "2024-09-03T01:47:06.396Z"
   },
   {
    "duration": 6,
    "start_time": "2024-09-03T01:47:06.406Z"
   },
   {
    "duration": 3,
    "start_time": "2024-09-03T01:47:06.413Z"
   },
   {
    "duration": 5,
    "start_time": "2024-09-03T01:47:06.418Z"
   },
   {
    "duration": 8,
    "start_time": "2024-09-03T01:47:06.424Z"
   },
   {
    "duration": 3,
    "start_time": "2024-09-03T01:47:06.434Z"
   },
   {
    "duration": 7,
    "start_time": "2024-09-03T01:47:06.439Z"
   },
   {
    "duration": 47,
    "start_time": "2024-09-03T01:47:06.447Z"
   },
   {
    "duration": 110,
    "start_time": "2024-09-03T01:47:06.496Z"
   },
   {
    "duration": 5,
    "start_time": "2024-09-03T01:47:06.608Z"
   },
   {
    "duration": 3,
    "start_time": "2024-09-03T01:47:06.615Z"
   },
   {
    "duration": 4,
    "start_time": "2024-09-03T01:47:06.620Z"
   },
   {
    "duration": 3,
    "start_time": "2024-09-03T01:47:06.626Z"
   },
   {
    "duration": 4,
    "start_time": "2024-09-03T01:47:06.631Z"
   },
   {
    "duration": 186,
    "start_time": "2024-09-03T01:47:06.636Z"
   },
   {
    "duration": 0,
    "start_time": "2024-09-03T01:47:06.824Z"
   },
   {
    "duration": 0,
    "start_time": "2024-09-03T01:47:06.825Z"
   },
   {
    "duration": 506,
    "start_time": "2024-09-03T01:57:18.942Z"
   },
   {
    "duration": 958,
    "start_time": "2024-09-03T01:58:14.070Z"
   },
   {
    "duration": 15,
    "start_time": "2024-09-03T01:58:15.030Z"
   },
   {
    "duration": 9,
    "start_time": "2024-09-03T01:58:15.047Z"
   },
   {
    "duration": 28,
    "start_time": "2024-09-03T01:58:15.059Z"
   },
   {
    "duration": 10,
    "start_time": "2024-09-03T01:58:15.089Z"
   },
   {
    "duration": 6,
    "start_time": "2024-09-03T01:58:15.101Z"
   },
   {
    "duration": 5,
    "start_time": "2024-09-03T01:58:15.109Z"
   },
   {
    "duration": 5,
    "start_time": "2024-09-03T01:58:15.116Z"
   },
   {
    "duration": 6,
    "start_time": "2024-09-03T01:58:15.123Z"
   },
   {
    "duration": 5,
    "start_time": "2024-09-03T01:58:15.132Z"
   },
   {
    "duration": 3,
    "start_time": "2024-09-03T01:58:15.138Z"
   },
   {
    "duration": 47,
    "start_time": "2024-09-03T01:58:15.142Z"
   },
   {
    "duration": 9,
    "start_time": "2024-09-03T01:58:15.190Z"
   },
   {
    "duration": 3,
    "start_time": "2024-09-03T01:58:15.200Z"
   },
   {
    "duration": 41,
    "start_time": "2024-09-03T01:58:15.205Z"
   },
   {
    "duration": 7,
    "start_time": "2024-09-03T01:58:15.248Z"
   },
   {
    "duration": 122,
    "start_time": "2024-09-03T01:58:15.257Z"
   },
   {
    "duration": 9,
    "start_time": "2024-09-03T01:58:15.380Z"
   },
   {
    "duration": 4,
    "start_time": "2024-09-03T01:58:15.391Z"
   },
   {
    "duration": 3,
    "start_time": "2024-09-03T01:58:15.396Z"
   },
   {
    "duration": 3,
    "start_time": "2024-09-03T01:58:15.401Z"
   },
   {
    "duration": 4,
    "start_time": "2024-09-03T01:58:15.405Z"
   },
   {
    "duration": 182,
    "start_time": "2024-09-03T01:58:15.410Z"
   },
   {
    "duration": 0,
    "start_time": "2024-09-03T01:58:15.595Z"
   },
   {
    "duration": 0,
    "start_time": "2024-09-03T01:58:15.596Z"
   },
   {
    "duration": 6,
    "start_time": "2024-09-03T01:58:56.203Z"
   },
   {
    "duration": 956,
    "start_time": "2024-09-03T01:59:00.323Z"
   },
   {
    "duration": 15,
    "start_time": "2024-09-03T01:59:01.280Z"
   },
   {
    "duration": 11,
    "start_time": "2024-09-03T01:59:01.296Z"
   },
   {
    "duration": 12,
    "start_time": "2024-09-03T01:59:01.309Z"
   },
   {
    "duration": 11,
    "start_time": "2024-09-03T01:59:01.322Z"
   },
   {
    "duration": 5,
    "start_time": "2024-09-03T01:59:01.335Z"
   },
   {
    "duration": 7,
    "start_time": "2024-09-03T01:59:01.342Z"
   },
   {
    "duration": 39,
    "start_time": "2024-09-03T01:59:01.351Z"
   },
   {
    "duration": 6,
    "start_time": "2024-09-03T01:59:01.392Z"
   },
   {
    "duration": 6,
    "start_time": "2024-09-03T01:59:01.401Z"
   },
   {
    "duration": 2,
    "start_time": "2024-09-03T01:59:01.409Z"
   },
   {
    "duration": 4,
    "start_time": "2024-09-03T01:59:01.413Z"
   },
   {
    "duration": 10,
    "start_time": "2024-09-03T01:59:01.419Z"
   },
   {
    "duration": 4,
    "start_time": "2024-09-03T01:59:01.431Z"
   },
   {
    "duration": 82,
    "start_time": "2024-09-03T01:59:01.436Z"
   },
   {
    "duration": 7,
    "start_time": "2024-09-03T01:59:01.520Z"
   },
   {
    "duration": 108,
    "start_time": "2024-09-03T01:59:01.530Z"
   },
   {
    "duration": 6,
    "start_time": "2024-09-03T01:59:01.639Z"
   },
   {
    "duration": 4,
    "start_time": "2024-09-03T01:59:01.646Z"
   },
   {
    "duration": 3,
    "start_time": "2024-09-03T01:59:01.651Z"
   },
   {
    "duration": 4,
    "start_time": "2024-09-03T01:59:01.656Z"
   },
   {
    "duration": 26,
    "start_time": "2024-09-03T01:59:01.662Z"
   },
   {
    "duration": 164,
    "start_time": "2024-09-03T01:59:01.689Z"
   },
   {
    "duration": 0,
    "start_time": "2024-09-03T01:59:01.855Z"
   },
   {
    "duration": 0,
    "start_time": "2024-09-03T01:59:01.856Z"
   },
   {
    "duration": 975,
    "start_time": "2024-09-03T01:59:42.640Z"
   },
   {
    "duration": 15,
    "start_time": "2024-09-03T01:59:43.617Z"
   },
   {
    "duration": 10,
    "start_time": "2024-09-03T01:59:43.633Z"
   },
   {
    "duration": 12,
    "start_time": "2024-09-03T01:59:43.645Z"
   },
   {
    "duration": 29,
    "start_time": "2024-09-03T01:59:43.659Z"
   },
   {
    "duration": 8,
    "start_time": "2024-09-03T01:59:43.689Z"
   },
   {
    "duration": 6,
    "start_time": "2024-09-03T01:59:43.699Z"
   },
   {
    "duration": 6,
    "start_time": "2024-09-03T01:59:43.707Z"
   },
   {
    "duration": 7,
    "start_time": "2024-09-03T01:59:43.714Z"
   },
   {
    "duration": 6,
    "start_time": "2024-09-03T01:59:43.724Z"
   },
   {
    "duration": 2,
    "start_time": "2024-09-03T01:59:43.731Z"
   },
   {
    "duration": 3,
    "start_time": "2024-09-03T01:59:43.735Z"
   },
   {
    "duration": 48,
    "start_time": "2024-09-03T01:59:43.739Z"
   },
   {
    "duration": 2,
    "start_time": "2024-09-03T01:59:43.789Z"
   },
   {
    "duration": 42,
    "start_time": "2024-09-03T01:59:43.793Z"
   },
   {
    "duration": 7,
    "start_time": "2024-09-03T01:59:43.837Z"
   },
   {
    "duration": 116,
    "start_time": "2024-09-03T01:59:43.845Z"
   },
   {
    "duration": 4,
    "start_time": "2024-09-03T01:59:43.962Z"
   },
   {
    "duration": 4,
    "start_time": "2024-09-03T01:59:43.968Z"
   },
   {
    "duration": 16,
    "start_time": "2024-09-03T01:59:43.973Z"
   },
   {
    "duration": 3,
    "start_time": "2024-09-03T01:59:43.991Z"
   },
   {
    "duration": 4,
    "start_time": "2024-09-03T01:59:43.995Z"
   },
   {
    "duration": 48762,
    "start_time": "2024-09-03T01:59:44.000Z"
   },
   {
    "duration": 84736,
    "start_time": "2024-09-03T02:00:32.764Z"
   },
   {
    "duration": 2046,
    "start_time": "2024-09-03T02:01:57.502Z"
   },
   {
    "duration": 5,
    "start_time": "2024-09-03T02:10:12.526Z"
   },
   {
    "duration": 241,
    "start_time": "2024-09-03T02:11:41.797Z"
   },
   {
    "duration": 3,
    "start_time": "2024-09-03T02:13:09.291Z"
   },
   {
    "duration": 4,
    "start_time": "2024-09-03T02:13:16.338Z"
   },
   {
    "duration": 9,
    "start_time": "2024-09-03T02:13:19.383Z"
   },
   {
    "duration": 3,
    "start_time": "2024-09-03T02:18:35.699Z"
   },
   {
    "duration": 13,
    "start_time": "2024-09-03T02:19:53.534Z"
   },
   {
    "duration": 6,
    "start_time": "2024-09-03T02:20:02.756Z"
   },
   {
    "duration": 11,
    "start_time": "2024-09-03T02:23:48.533Z"
   },
   {
    "duration": 51329,
    "start_time": "2024-09-03T02:28:48.060Z"
   },
   {
    "duration": 201,
    "start_time": "2024-09-03T02:29:45.098Z"
   },
   {
    "duration": 4,
    "start_time": "2024-09-03T02:31:53.856Z"
   },
   {
    "duration": 9,
    "start_time": "2024-09-03T02:31:55.608Z"
   },
   {
    "duration": 4,
    "start_time": "2024-09-03T02:32:19.706Z"
   },
   {
    "duration": 8,
    "start_time": "2024-09-03T02:32:28.845Z"
   },
   {
    "duration": 925,
    "start_time": "2024-09-03T02:32:35.059Z"
   },
   {
    "duration": 15,
    "start_time": "2024-09-03T02:32:35.986Z"
   },
   {
    "duration": 10,
    "start_time": "2024-09-03T02:32:36.003Z"
   },
   {
    "duration": 12,
    "start_time": "2024-09-03T02:32:36.015Z"
   },
   {
    "duration": 10,
    "start_time": "2024-09-03T02:32:36.029Z"
   },
   {
    "duration": 5,
    "start_time": "2024-09-03T02:32:36.041Z"
   },
   {
    "duration": 41,
    "start_time": "2024-09-03T02:32:36.048Z"
   },
   {
    "duration": 7,
    "start_time": "2024-09-03T02:32:36.091Z"
   },
   {
    "duration": 6,
    "start_time": "2024-09-03T02:32:36.099Z"
   },
   {
    "duration": 6,
    "start_time": "2024-09-03T02:32:36.107Z"
   },
   {
    "duration": 2,
    "start_time": "2024-09-03T02:32:36.114Z"
   },
   {
    "duration": 3,
    "start_time": "2024-09-03T02:32:36.118Z"
   },
   {
    "duration": 8,
    "start_time": "2024-09-03T02:32:36.122Z"
   },
   {
    "duration": 2,
    "start_time": "2024-09-03T02:32:36.133Z"
   },
   {
    "duration": 80,
    "start_time": "2024-09-03T02:32:36.137Z"
   },
   {
    "duration": 6,
    "start_time": "2024-09-03T02:32:36.219Z"
   },
   {
    "duration": 103,
    "start_time": "2024-09-03T02:32:36.226Z"
   },
   {
    "duration": 4,
    "start_time": "2024-09-03T02:32:36.330Z"
   },
   {
    "duration": 4,
    "start_time": "2024-09-03T02:32:36.336Z"
   },
   {
    "duration": 3,
    "start_time": "2024-09-03T02:32:36.342Z"
   },
   {
    "duration": 3,
    "start_time": "2024-09-03T02:32:36.348Z"
   },
   {
    "duration": 4,
    "start_time": "2024-09-03T02:32:36.352Z"
   },
   {
    "duration": 48937,
    "start_time": "2024-09-03T02:32:36.358Z"
   },
   {
    "duration": 85080,
    "start_time": "2024-09-03T02:33:25.298Z"
   },
   {
    "duration": 2007,
    "start_time": "2024-09-03T02:34:50.380Z"
   },
   {
    "duration": 5,
    "start_time": "2024-09-03T02:34:52.389Z"
   },
   {
    "duration": 92,
    "start_time": "2024-09-03T02:34:52.396Z"
   },
   {
    "duration": 3,
    "start_time": "2024-09-03T02:34:52.489Z"
   },
   {
    "duration": 8,
    "start_time": "2024-09-03T02:34:52.494Z"
   },
   {
    "duration": 243,
    "start_time": "2024-09-03T02:34:52.503Z"
   },
   {
    "duration": 47355,
    "start_time": "2024-09-03T02:35:40.033Z"
   },
   {
    "duration": 93527,
    "start_time": "2024-09-03T02:42:44.975Z"
   },
   {
    "duration": 93855,
    "start_time": "2024-09-03T02:46:24.646Z"
   },
   {
    "duration": 84633,
    "start_time": "2024-09-03T02:47:58.503Z"
   },
   {
    "duration": 2346,
    "start_time": "2024-09-03T02:53:55.284Z"
   },
   {
    "duration": 45087,
    "start_time": "2024-09-03T02:54:54.170Z"
   },
   {
    "duration": 92897,
    "start_time": "2024-09-03T02:56:13.581Z"
   },
   {
    "duration": 2857,
    "start_time": "2024-09-03T02:58:27.130Z"
   },
   {
    "duration": 2317,
    "start_time": "2024-09-03T02:58:42.472Z"
   },
   {
    "duration": 93664,
    "start_time": "2024-09-03T02:58:59.864Z"
   },
   {
    "duration": 47711,
    "start_time": "2024-09-03T03:00:33.530Z"
   },
   {
    "duration": 16,
    "start_time": "2024-09-03T03:02:40.508Z"
   },
   {
    "duration": 111,
    "start_time": "2024-09-03T03:02:47.531Z"
   },
   {
    "duration": 113,
    "start_time": "2024-09-03T03:03:26.624Z"
   },
   {
    "duration": 84940,
    "start_time": "2024-09-03T03:06:07.808Z"
   },
   {
    "duration": 47906,
    "start_time": "2024-09-03T03:08:29.062Z"
   },
   {
    "duration": 84305,
    "start_time": "2024-09-03T03:12:18.016Z"
   },
   {
    "duration": 20,
    "start_time": "2024-09-03T03:13:42.323Z"
   },
   {
    "duration": 6,
    "start_time": "2024-09-03T03:15:00.917Z"
   },
   {
    "duration": 23614,
    "start_time": "2024-09-03T03:15:07.312Z"
   },
   {
    "duration": 156224,
    "start_time": "2024-09-03T03:23:12.307Z"
   },
   {
    "duration": 3114,
    "start_time": "2024-09-03T03:25:48.533Z"
   },
   {
    "duration": 55,
    "start_time": "2024-09-03T03:52:36.462Z"
   },
   {
    "duration": 180,
    "start_time": "2024-09-03T03:52:45.150Z"
   },
   {
    "duration": 916,
    "start_time": "2024-09-03T23:36:31.670Z"
   },
   {
    "duration": 2734,
    "start_time": "2024-09-03T23:36:40.575Z"
   },
   {
    "duration": 30,
    "start_time": "2024-09-03T23:36:43.311Z"
   },
   {
    "duration": 11,
    "start_time": "2024-09-03T23:36:43.343Z"
   },
   {
    "duration": 13,
    "start_time": "2024-09-03T23:36:43.355Z"
   },
   {
    "duration": 12,
    "start_time": "2024-09-03T23:36:43.370Z"
   },
   {
    "duration": 7,
    "start_time": "2024-09-03T23:36:43.383Z"
   },
   {
    "duration": 6,
    "start_time": "2024-09-03T23:36:43.392Z"
   },
   {
    "duration": 7,
    "start_time": "2024-09-03T23:36:43.399Z"
   },
   {
    "duration": 41,
    "start_time": "2024-09-03T23:36:43.407Z"
   },
   {
    "duration": 6,
    "start_time": "2024-09-03T23:36:43.449Z"
   },
   {
    "duration": 4,
    "start_time": "2024-09-03T23:36:43.458Z"
   },
   {
    "duration": 3,
    "start_time": "2024-09-03T23:36:43.464Z"
   },
   {
    "duration": 8,
    "start_time": "2024-09-03T23:36:43.469Z"
   },
   {
    "duration": 3,
    "start_time": "2024-09-03T23:36:43.481Z"
   },
   {
    "duration": 79,
    "start_time": "2024-09-03T23:36:43.486Z"
   },
   {
    "duration": 6,
    "start_time": "2024-09-03T23:36:43.567Z"
   },
   {
    "duration": 167,
    "start_time": "2024-09-03T23:36:43.575Z"
   },
   {
    "duration": 5,
    "start_time": "2024-09-03T23:36:43.745Z"
   },
   {
    "duration": 4,
    "start_time": "2024-09-03T23:36:43.752Z"
   },
   {
    "duration": 4,
    "start_time": "2024-09-03T23:36:43.757Z"
   },
   {
    "duration": 3,
    "start_time": "2024-09-03T23:36:43.763Z"
   },
   {
    "duration": 3,
    "start_time": "2024-09-03T23:36:43.768Z"
   },
   {
    "duration": 49765,
    "start_time": "2024-09-03T23:36:43.773Z"
   },
   {
    "duration": 85369,
    "start_time": "2024-09-03T23:37:33.543Z"
   },
   {
    "duration": 2329,
    "start_time": "2024-09-03T23:38:58.914Z"
   },
   {
    "duration": 7,
    "start_time": "2024-09-03T23:39:01.245Z"
   },
   {
    "duration": 90,
    "start_time": "2024-09-03T23:39:01.256Z"
   },
   {
    "duration": 4,
    "start_time": "2024-09-03T23:39:01.347Z"
   },
   {
    "duration": 8,
    "start_time": "2024-09-03T23:39:01.353Z"
   },
   {
    "duration": 6,
    "start_time": "2024-09-03T23:39:01.363Z"
   },
   {
    "duration": 48340,
    "start_time": "2024-09-03T23:39:01.370Z"
   },
   {
    "duration": 94599,
    "start_time": "2024-09-03T23:39:49.714Z"
   },
   {
    "duration": 2830,
    "start_time": "2024-09-03T23:41:24.315Z"
   },
   {
    "duration": 85066,
    "start_time": "2024-09-03T23:41:27.148Z"
   },
   {
    "duration": 23398,
    "start_time": "2024-09-03T23:42:52.217Z"
   },
   {
    "duration": 156741,
    "start_time": "2024-09-03T23:43:15.617Z"
   },
   {
    "duration": 3240,
    "start_time": "2024-09-03T23:45:52.360Z"
   },
   {
    "duration": 305,
    "start_time": "2024-09-03T23:45:55.603Z"
   },
   {
    "duration": 521,
    "start_time": "2024-09-03T23:45:55.911Z"
   },
   {
    "duration": 5,
    "start_time": "2024-09-03T23:55:21.972Z"
   },
   {
    "duration": 4,
    "start_time": "2024-09-03T23:55:32.303Z"
   },
   {
    "duration": 50036,
    "start_time": "2024-09-03T23:56:00.943Z"
   },
   {
    "duration": 84210,
    "start_time": "2024-09-03T23:56:50.982Z"
   },
   {
    "duration": 2149,
    "start_time": "2024-09-03T23:58:15.195Z"
   },
   {
    "duration": 4,
    "start_time": "2024-09-03T23:58:17.348Z"
   },
   {
    "duration": 10,
    "start_time": "2024-09-03T23:58:17.354Z"
   },
   {
    "duration": 4,
    "start_time": "2024-09-03T23:58:17.443Z"
   },
   {
    "duration": 8,
    "start_time": "2024-09-03T23:58:17.450Z"
   },
   {
    "duration": 7,
    "start_time": "2024-09-03T23:58:17.459Z"
   },
   {
    "duration": 48116,
    "start_time": "2024-09-03T23:58:17.469Z"
   },
   {
    "duration": 92024,
    "start_time": "2024-09-03T23:59:05.589Z"
   },
   {
    "duration": 2330,
    "start_time": "2024-09-04T00:00:37.615Z"
   },
   {
    "duration": 85791,
    "start_time": "2024-09-04T00:00:39.948Z"
   },
   {
    "duration": 23924,
    "start_time": "2024-09-04T00:02:05.743Z"
   },
   {
    "duration": 153293,
    "start_time": "2024-09-04T00:02:29.669Z"
   },
   {
    "duration": 3001,
    "start_time": "2024-09-04T00:05:02.964Z"
   },
   {
    "duration": 318,
    "start_time": "2024-09-04T00:05:05.967Z"
   },
   {
    "duration": 154890,
    "start_time": "2024-09-04T00:06:23.062Z"
   },
   {
    "duration": 151,
    "start_time": "2024-09-04T00:09:17.456Z"
   },
   {
    "duration": 23859,
    "start_time": "2024-09-04T00:10:13.996Z"
   },
   {
    "duration": 4942,
    "start_time": "2024-09-04T00:10:52.465Z"
   },
   {
    "duration": 5802,
    "start_time": "2024-09-04T00:11:40.233Z"
   },
   {
    "duration": 4771,
    "start_time": "2024-09-04T00:11:58.960Z"
   },
   {
    "duration": 6406,
    "start_time": "2024-09-04T00:12:21.340Z"
   },
   {
    "duration": 5876,
    "start_time": "2024-09-04T00:13:54.551Z"
   },
   {
    "duration": 5861,
    "start_time": "2024-09-04T00:14:16.577Z"
   },
   {
    "duration": 5498,
    "start_time": "2024-09-04T00:15:25.699Z"
   },
   {
    "duration": 5776,
    "start_time": "2024-09-04T00:16:08.882Z"
   },
   {
    "duration": 5439,
    "start_time": "2024-09-04T00:16:31.787Z"
   },
   {
    "duration": 5438,
    "start_time": "2024-09-04T00:16:51.249Z"
   },
   {
    "duration": 5447,
    "start_time": "2024-09-04T00:17:34.583Z"
   },
   {
    "duration": 5800,
    "start_time": "2024-09-04T00:18:00.362Z"
   },
   {
    "duration": 2681,
    "start_time": "2024-09-04T00:48:10.289Z"
   },
   {
    "duration": 29,
    "start_time": "2024-09-04T00:48:12.972Z"
   },
   {
    "duration": 10,
    "start_time": "2024-09-04T00:48:13.003Z"
   },
   {
    "duration": 15,
    "start_time": "2024-09-04T00:48:13.015Z"
   },
   {
    "duration": 11,
    "start_time": "2024-09-04T00:48:13.031Z"
   },
   {
    "duration": 6,
    "start_time": "2024-09-04T00:48:13.043Z"
   },
   {
    "duration": 6,
    "start_time": "2024-09-04T00:48:13.051Z"
   },
   {
    "duration": 33,
    "start_time": "2024-09-04T00:48:13.058Z"
   },
   {
    "duration": 6,
    "start_time": "2024-09-04T00:48:13.093Z"
   },
   {
    "duration": 6,
    "start_time": "2024-09-04T00:48:13.102Z"
   },
   {
    "duration": 4,
    "start_time": "2024-09-04T00:48:13.110Z"
   },
   {
    "duration": 14,
    "start_time": "2024-09-04T00:48:13.116Z"
   },
   {
    "duration": 5,
    "start_time": "2024-09-04T00:48:13.132Z"
   },
   {
    "duration": 77,
    "start_time": "2024-09-04T00:48:13.138Z"
   },
   {
    "duration": 6,
    "start_time": "2024-09-04T00:48:13.217Z"
   },
   {
    "duration": 116,
    "start_time": "2024-09-04T00:48:13.225Z"
   },
   {
    "duration": 4,
    "start_time": "2024-09-04T00:48:13.343Z"
   },
   {
    "duration": 4,
    "start_time": "2024-09-04T00:48:13.349Z"
   },
   {
    "duration": 3,
    "start_time": "2024-09-04T00:48:13.355Z"
   },
   {
    "duration": 27,
    "start_time": "2024-09-04T00:48:13.360Z"
   },
   {
    "duration": 4,
    "start_time": "2024-09-04T00:48:13.389Z"
   },
   {
    "duration": 50050,
    "start_time": "2024-09-04T00:48:13.395Z"
   },
   {
    "duration": 84680,
    "start_time": "2024-09-04T00:49:03.447Z"
   },
   {
    "duration": 2059,
    "start_time": "2024-09-04T00:50:28.130Z"
   },
   {
    "duration": 5,
    "start_time": "2024-09-04T00:50:30.191Z"
   },
   {
    "duration": 93,
    "start_time": "2024-09-04T00:50:30.198Z"
   },
   {
    "duration": 3,
    "start_time": "2024-09-04T00:50:30.293Z"
   },
   {
    "duration": 7,
    "start_time": "2024-09-04T00:50:30.300Z"
   },
   {
    "duration": 6,
    "start_time": "2024-09-04T00:50:30.308Z"
   },
   {
    "duration": 49053,
    "start_time": "2024-09-04T00:50:30.316Z"
   },
   {
    "duration": 93262,
    "start_time": "2024-09-04T00:51:19.371Z"
   },
   {
    "duration": 2351,
    "start_time": "2024-09-04T00:52:52.636Z"
   },
   {
    "duration": 85181,
    "start_time": "2024-09-04T00:52:54.990Z"
   },
   {
    "duration": 24028,
    "start_time": "2024-09-04T00:54:20.173Z"
   },
   {
    "duration": 153210,
    "start_time": "2024-09-04T00:54:44.202Z"
   },
   {
    "duration": 3872,
    "start_time": "2024-09-04T00:57:17.414Z"
   },
   {
    "duration": 265,
    "start_time": "2024-09-04T00:57:21.288Z"
   },
   {
    "duration": 386,
    "start_time": "2024-09-04T00:57:27.853Z"
   },
   {
    "duration": 23,
    "start_time": "2024-09-04T00:59:07.868Z"
   },
   {
    "duration": 30,
    "start_time": "2024-09-04T01:00:01.091Z"
   },
   {
    "duration": 8,
    "start_time": "2024-09-04T01:00:11.197Z"
   },
   {
    "duration": 700,
    "start_time": "2024-09-04T01:01:32.909Z"
   },
   {
    "duration": 36,
    "start_time": "2024-09-04T01:01:49.095Z"
   },
   {
    "duration": 87,
    "start_time": "2024-09-04T01:02:12.695Z"
   },
   {
    "duration": 61,
    "start_time": "2024-09-04T01:03:01.441Z"
   },
   {
    "duration": 43,
    "start_time": "2024-09-04T01:03:08.579Z"
   },
   {
    "duration": 31,
    "start_time": "2024-09-04T01:03:34.796Z"
   },
   {
    "duration": 31,
    "start_time": "2024-09-04T01:03:40.906Z"
   },
   {
    "duration": 37,
    "start_time": "2024-09-04T01:03:57.069Z"
   },
   {
    "duration": 5,
    "start_time": "2024-09-04T01:05:20.362Z"
   },
   {
    "duration": 7,
    "start_time": "2024-09-04T01:05:31.606Z"
   },
   {
    "duration": 4,
    "start_time": "2024-09-04T01:10:11.361Z"
   },
   {
    "duration": 7,
    "start_time": "2024-09-04T01:11:28.849Z"
   },
   {
    "duration": 103,
    "start_time": "2024-09-04T01:11:38.804Z"
   },
   {
    "duration": 4,
    "start_time": "2024-09-04T01:13:20.678Z"
   },
   {
    "duration": 8,
    "start_time": "2024-09-04T01:13:44.012Z"
   },
   {
    "duration": 4,
    "start_time": "2024-09-04T01:14:35.681Z"
   },
   {
    "duration": 110,
    "start_time": "2024-09-04T01:14:51.592Z"
   },
   {
    "duration": 1028,
    "start_time": "2024-09-04T01:15:42.879Z"
   },
   {
    "duration": 14,
    "start_time": "2024-09-04T01:15:43.909Z"
   },
   {
    "duration": 10,
    "start_time": "2024-09-04T01:15:43.925Z"
   },
   {
    "duration": 12,
    "start_time": "2024-09-04T01:15:43.937Z"
   },
   {
    "duration": 10,
    "start_time": "2024-09-04T01:15:43.951Z"
   },
   {
    "duration": 27,
    "start_time": "2024-09-04T01:15:43.963Z"
   },
   {
    "duration": 6,
    "start_time": "2024-09-04T01:15:43.992Z"
   },
   {
    "duration": 6,
    "start_time": "2024-09-04T01:15:44.000Z"
   },
   {
    "duration": 7,
    "start_time": "2024-09-04T01:15:44.007Z"
   },
   {
    "duration": 6,
    "start_time": "2024-09-04T01:15:44.016Z"
   },
   {
    "duration": 3,
    "start_time": "2024-09-04T01:15:44.024Z"
   },
   {
    "duration": 650,
    "start_time": "2024-09-04T01:15:44.028Z"
   },
   {
    "duration": 0,
    "start_time": "2024-09-04T01:15:44.686Z"
   },
   {
    "duration": 0,
    "start_time": "2024-09-04T01:15:44.688Z"
   },
   {
    "duration": 0,
    "start_time": "2024-09-04T01:15:44.690Z"
   },
   {
    "duration": 0,
    "start_time": "2024-09-04T01:15:44.691Z"
   },
   {
    "duration": 0,
    "start_time": "2024-09-04T01:15:44.692Z"
   },
   {
    "duration": 0,
    "start_time": "2024-09-04T01:15:44.693Z"
   },
   {
    "duration": 0,
    "start_time": "2024-09-04T01:15:44.694Z"
   },
   {
    "duration": 0,
    "start_time": "2024-09-04T01:15:44.695Z"
   },
   {
    "duration": 0,
    "start_time": "2024-09-04T01:15:44.696Z"
   },
   {
    "duration": 0,
    "start_time": "2024-09-04T01:15:44.697Z"
   },
   {
    "duration": 0,
    "start_time": "2024-09-04T01:15:44.698Z"
   },
   {
    "duration": 0,
    "start_time": "2024-09-04T01:15:44.699Z"
   },
   {
    "duration": 0,
    "start_time": "2024-09-04T01:15:44.700Z"
   },
   {
    "duration": 0,
    "start_time": "2024-09-04T01:15:44.701Z"
   },
   {
    "duration": 0,
    "start_time": "2024-09-04T01:15:44.702Z"
   },
   {
    "duration": 0,
    "start_time": "2024-09-04T01:15:44.703Z"
   },
   {
    "duration": 0,
    "start_time": "2024-09-04T01:15:44.704Z"
   },
   {
    "duration": 0,
    "start_time": "2024-09-04T01:15:44.705Z"
   },
   {
    "duration": 0,
    "start_time": "2024-09-04T01:15:44.706Z"
   },
   {
    "duration": 0,
    "start_time": "2024-09-04T01:15:44.707Z"
   },
   {
    "duration": 0,
    "start_time": "2024-09-04T01:15:44.708Z"
   },
   {
    "duration": 0,
    "start_time": "2024-09-04T01:15:44.710Z"
   },
   {
    "duration": 0,
    "start_time": "2024-09-04T01:15:44.712Z"
   },
   {
    "duration": 0,
    "start_time": "2024-09-04T01:15:44.713Z"
   },
   {
    "duration": 0,
    "start_time": "2024-09-04T01:15:44.715Z"
   },
   {
    "duration": 0,
    "start_time": "2024-09-04T01:15:44.716Z"
   },
   {
    "duration": 3,
    "start_time": "2024-09-04T01:16:17.752Z"
   },
   {
    "duration": 19,
    "start_time": "2024-09-04T01:16:22.671Z"
   },
   {
    "duration": 6,
    "start_time": "2024-09-04T01:16:23.517Z"
   },
   {
    "duration": 99,
    "start_time": "2024-09-04T01:16:25.572Z"
   },
   {
    "duration": 5,
    "start_time": "2024-09-04T01:16:30.537Z"
   },
   {
    "duration": 6,
    "start_time": "2024-09-04T01:16:31.442Z"
   },
   {
    "duration": 4,
    "start_time": "2024-09-04T01:16:32.534Z"
   },
   {
    "duration": 7,
    "start_time": "2024-09-04T01:16:33.151Z"
   },
   {
    "duration": 4,
    "start_time": "2024-09-04T01:16:33.870Z"
   },
   {
    "duration": 36689,
    "start_time": "2024-09-04T01:16:34.775Z"
   },
   {
    "duration": 73180,
    "start_time": "2024-09-04T01:17:47.859Z"
   },
   {
    "duration": 1782,
    "start_time": "2024-09-04T01:19:01.042Z"
   },
   {
    "duration": 5,
    "start_time": "2024-09-04T01:19:02.826Z"
   },
   {
    "duration": 15,
    "start_time": "2024-09-04T01:19:02.886Z"
   },
   {
    "duration": 4,
    "start_time": "2024-09-04T01:19:02.903Z"
   },
   {
    "duration": 81,
    "start_time": "2024-09-04T01:19:02.909Z"
   },
   {
    "duration": 5,
    "start_time": "2024-09-04T01:19:02.991Z"
   },
   {
    "duration": 39824,
    "start_time": "2024-09-04T01:19:02.998Z"
   },
   {
    "duration": 83954,
    "start_time": "2024-09-04T01:19:42.824Z"
   },
   {
    "duration": 2073,
    "start_time": "2024-09-04T01:21:06.781Z"
   },
   {
    "duration": 64518,
    "start_time": "2024-09-04T01:21:08.855Z"
   },
   {
    "duration": 21088,
    "start_time": "2024-09-04T01:22:13.375Z"
   },
   {
    "duration": 134101,
    "start_time": "2024-09-04T01:22:34.465Z"
   },
   {
    "duration": 2626,
    "start_time": "2024-09-04T01:24:48.568Z"
   },
   {
    "duration": 257,
    "start_time": "2024-09-04T01:24:51.196Z"
   },
   {
    "duration": 18,
    "start_time": "2024-09-04T01:24:51.454Z"
   },
   {
    "duration": 91,
    "start_time": "2024-09-04T01:27:11.718Z"
   },
   {
    "duration": 31,
    "start_time": "2024-09-04T01:27:21.453Z"
   },
   {
    "duration": 14,
    "start_time": "2024-09-04T01:27:28.663Z"
   },
   {
    "duration": 1022,
    "start_time": "2024-09-04T01:32:15.486Z"
   },
   {
    "duration": 17,
    "start_time": "2024-09-04T01:32:16.510Z"
   },
   {
    "duration": 10,
    "start_time": "2024-09-04T01:32:16.528Z"
   },
   {
    "duration": 13,
    "start_time": "2024-09-04T01:32:16.540Z"
   },
   {
    "duration": 30,
    "start_time": "2024-09-04T01:32:16.556Z"
   },
   {
    "duration": 7,
    "start_time": "2024-09-04T01:32:16.588Z"
   },
   {
    "duration": 7,
    "start_time": "2024-09-04T01:32:16.596Z"
   },
   {
    "duration": 6,
    "start_time": "2024-09-04T01:32:16.604Z"
   },
   {
    "duration": 6,
    "start_time": "2024-09-04T01:32:16.612Z"
   },
   {
    "duration": 6,
    "start_time": "2024-09-04T01:32:16.620Z"
   },
   {
    "duration": 3,
    "start_time": "2024-09-04T01:32:16.627Z"
   },
   {
    "duration": 645,
    "start_time": "2024-09-04T01:32:16.633Z"
   },
   {
    "duration": 0,
    "start_time": "2024-09-04T01:32:17.281Z"
   },
   {
    "duration": 0,
    "start_time": "2024-09-04T01:32:17.287Z"
   },
   {
    "duration": 0,
    "start_time": "2024-09-04T01:32:17.288Z"
   },
   {
    "duration": 0,
    "start_time": "2024-09-04T01:32:17.289Z"
   },
   {
    "duration": 0,
    "start_time": "2024-09-04T01:32:17.291Z"
   },
   {
    "duration": 0,
    "start_time": "2024-09-04T01:32:17.292Z"
   },
   {
    "duration": 0,
    "start_time": "2024-09-04T01:32:17.293Z"
   },
   {
    "duration": 0,
    "start_time": "2024-09-04T01:32:17.295Z"
   },
   {
    "duration": 0,
    "start_time": "2024-09-04T01:32:17.296Z"
   },
   {
    "duration": 0,
    "start_time": "2024-09-04T01:32:17.298Z"
   },
   {
    "duration": 0,
    "start_time": "2024-09-04T01:32:17.299Z"
   },
   {
    "duration": 0,
    "start_time": "2024-09-04T01:32:17.301Z"
   },
   {
    "duration": 0,
    "start_time": "2024-09-04T01:32:17.302Z"
   },
   {
    "duration": 0,
    "start_time": "2024-09-04T01:32:17.304Z"
   },
   {
    "duration": 0,
    "start_time": "2024-09-04T01:32:17.305Z"
   },
   {
    "duration": 0,
    "start_time": "2024-09-04T01:32:17.306Z"
   },
   {
    "duration": 0,
    "start_time": "2024-09-04T01:32:17.307Z"
   },
   {
    "duration": 0,
    "start_time": "2024-09-04T01:32:17.308Z"
   },
   {
    "duration": 0,
    "start_time": "2024-09-04T01:32:17.309Z"
   },
   {
    "duration": 1,
    "start_time": "2024-09-04T01:32:17.310Z"
   },
   {
    "duration": 0,
    "start_time": "2024-09-04T01:32:17.313Z"
   },
   {
    "duration": 0,
    "start_time": "2024-09-04T01:32:17.314Z"
   },
   {
    "duration": 0,
    "start_time": "2024-09-04T01:32:17.315Z"
   },
   {
    "duration": 0,
    "start_time": "2024-09-04T01:32:17.316Z"
   },
   {
    "duration": 0,
    "start_time": "2024-09-04T01:32:17.317Z"
   },
   {
    "duration": 0,
    "start_time": "2024-09-04T01:32:17.319Z"
   },
   {
    "duration": 3,
    "start_time": "2024-09-04T01:32:33.641Z"
   },
   {
    "duration": 44,
    "start_time": "2024-09-04T01:32:34.972Z"
   },
   {
    "duration": 11,
    "start_time": "2024-09-04T01:32:35.129Z"
   },
   {
    "duration": 13,
    "start_time": "2024-09-04T01:32:35.447Z"
   },
   {
    "duration": 14,
    "start_time": "2024-09-04T01:32:35.760Z"
   },
   {
    "duration": 13,
    "start_time": "2024-09-04T01:32:35.942Z"
   },
   {
    "duration": 13,
    "start_time": "2024-09-04T01:32:36.257Z"
   },
   {
    "duration": 13,
    "start_time": "2024-09-04T01:32:36.422Z"
   },
   {
    "duration": 14,
    "start_time": "2024-09-04T01:32:36.594Z"
   },
   {
    "duration": 20,
    "start_time": "2024-09-04T01:32:36.927Z"
   },
   {
    "duration": 21,
    "start_time": "2024-09-04T01:32:37.337Z"
   },
   {
    "duration": 17,
    "start_time": "2024-09-04T01:32:37.663Z"
   },
   {
    "duration": 45,
    "start_time": "2024-09-04T01:33:37.611Z"
   },
   {
    "duration": 14,
    "start_time": "2024-09-04T01:33:57.412Z"
   },
   {
    "duration": 7,
    "start_time": "2024-09-04T01:34:15.922Z"
   },
   {
    "duration": 98,
    "start_time": "2024-09-04T01:34:18.936Z"
   },
   {
    "duration": 5,
    "start_time": "2024-09-04T01:34:19.287Z"
   },
   {
    "duration": 4,
    "start_time": "2024-09-04T01:34:19.450Z"
   },
   {
    "duration": 3,
    "start_time": "2024-09-04T01:34:19.779Z"
   },
   {
    "duration": 4,
    "start_time": "2024-09-04T01:34:19.955Z"
   },
   {
    "duration": 3,
    "start_time": "2024-09-04T01:34:20.129Z"
   },
   {
    "duration": 35586,
    "start_time": "2024-09-04T01:34:20.474Z"
   },
   {
    "duration": 69341,
    "start_time": "2024-09-04T01:34:56.062Z"
   },
   {
    "duration": 1646,
    "start_time": "2024-09-04T01:36:05.405Z"
   },
   {
    "duration": 4,
    "start_time": "2024-09-04T01:36:07.087Z"
   },
   {
    "duration": 97,
    "start_time": "2024-09-04T01:36:07.093Z"
   },
   {
    "duration": 3,
    "start_time": "2024-09-04T01:36:07.192Z"
   },
   {
    "duration": 9,
    "start_time": "2024-09-04T01:36:07.197Z"
   },
   {
    "duration": 7,
    "start_time": "2024-09-04T01:36:07.208Z"
   },
   {
    "duration": 38829,
    "start_time": "2024-09-04T01:36:07.216Z"
   },
   {
    "duration": 82086,
    "start_time": "2024-09-04T01:36:46.048Z"
   },
   {
    "duration": 3550,
    "start_time": "2024-09-04T01:38:08.137Z"
   },
   {
    "duration": 61329,
    "start_time": "2024-09-04T01:38:11.688Z"
   },
   {
    "duration": 18996,
    "start_time": "2024-09-04T01:39:13.019Z"
   },
   {
    "duration": 128097,
    "start_time": "2024-09-04T01:39:32.016Z"
   },
   {
    "duration": 4431,
    "start_time": "2024-09-04T01:41:40.115Z"
   },
   {
    "duration": 264,
    "start_time": "2024-09-04T01:41:44.549Z"
   },
   {
    "duration": 101,
    "start_time": "2024-09-04T01:41:44.815Z"
   },
   {
    "duration": 33,
    "start_time": "2024-09-04T01:42:11.623Z"
   },
   {
    "duration": 30,
    "start_time": "2024-09-04T01:42:18.817Z"
   },
   {
    "duration": 9,
    "start_time": "2024-09-04T01:42:24.901Z"
   },
   {
    "duration": 19,
    "start_time": "2024-09-04T01:43:51.595Z"
   },
   {
    "duration": 7,
    "start_time": "2024-09-04T01:43:57.083Z"
   },
   {
    "duration": 990,
    "start_time": "2024-09-04T01:44:11.590Z"
   },
   {
    "duration": 16,
    "start_time": "2024-09-04T01:44:12.586Z"
   },
   {
    "duration": 10,
    "start_time": "2024-09-04T01:44:12.604Z"
   },
   {
    "duration": 12,
    "start_time": "2024-09-04T01:44:12.616Z"
   },
   {
    "duration": 11,
    "start_time": "2024-09-04T01:44:12.630Z"
   },
   {
    "duration": 5,
    "start_time": "2024-09-04T01:44:12.643Z"
   },
   {
    "duration": 37,
    "start_time": "2024-09-04T01:44:12.650Z"
   },
   {
    "duration": 7,
    "start_time": "2024-09-04T01:44:12.688Z"
   },
   {
    "duration": 6,
    "start_time": "2024-09-04T01:44:12.697Z"
   },
   {
    "duration": 6,
    "start_time": "2024-09-04T01:44:12.705Z"
   },
   {
    "duration": 3,
    "start_time": "2024-09-04T01:44:12.712Z"
   },
   {
    "duration": 730,
    "start_time": "2024-09-04T01:44:12.717Z"
   },
   {
    "duration": 0,
    "start_time": "2024-09-04T01:44:13.449Z"
   },
   {
    "duration": 0,
    "start_time": "2024-09-04T01:44:13.450Z"
   },
   {
    "duration": 0,
    "start_time": "2024-09-04T01:44:13.452Z"
   },
   {
    "duration": 0,
    "start_time": "2024-09-04T01:44:13.453Z"
   },
   {
    "duration": 0,
    "start_time": "2024-09-04T01:44:13.455Z"
   },
   {
    "duration": 0,
    "start_time": "2024-09-04T01:44:13.456Z"
   },
   {
    "duration": 0,
    "start_time": "2024-09-04T01:44:13.458Z"
   },
   {
    "duration": 0,
    "start_time": "2024-09-04T01:44:13.459Z"
   },
   {
    "duration": 0,
    "start_time": "2024-09-04T01:44:13.460Z"
   },
   {
    "duration": 0,
    "start_time": "2024-09-04T01:44:13.462Z"
   },
   {
    "duration": 0,
    "start_time": "2024-09-04T01:44:13.463Z"
   },
   {
    "duration": 0,
    "start_time": "2024-09-04T01:44:13.464Z"
   },
   {
    "duration": 0,
    "start_time": "2024-09-04T01:44:13.486Z"
   },
   {
    "duration": 0,
    "start_time": "2024-09-04T01:44:13.487Z"
   },
   {
    "duration": 0,
    "start_time": "2024-09-04T01:44:13.488Z"
   },
   {
    "duration": 0,
    "start_time": "2024-09-04T01:44:13.489Z"
   },
   {
    "duration": 0,
    "start_time": "2024-09-04T01:44:13.490Z"
   },
   {
    "duration": 0,
    "start_time": "2024-09-04T01:44:13.491Z"
   },
   {
    "duration": 0,
    "start_time": "2024-09-04T01:44:13.493Z"
   },
   {
    "duration": 0,
    "start_time": "2024-09-04T01:44:13.493Z"
   },
   {
    "duration": 0,
    "start_time": "2024-09-04T01:44:13.497Z"
   },
   {
    "duration": 0,
    "start_time": "2024-09-04T01:44:13.498Z"
   },
   {
    "duration": 0,
    "start_time": "2024-09-04T01:44:13.499Z"
   },
   {
    "duration": 0,
    "start_time": "2024-09-04T01:44:13.501Z"
   },
   {
    "duration": 0,
    "start_time": "2024-09-04T01:44:13.502Z"
   },
   {
    "duration": 979,
    "start_time": "2024-09-04T01:44:47.340Z"
   },
   {
    "duration": 15,
    "start_time": "2024-09-04T01:44:48.321Z"
   },
   {
    "duration": 10,
    "start_time": "2024-09-04T01:44:48.338Z"
   },
   {
    "duration": 12,
    "start_time": "2024-09-04T01:44:48.350Z"
   },
   {
    "duration": 31,
    "start_time": "2024-09-04T01:44:48.365Z"
   },
   {
    "duration": 7,
    "start_time": "2024-09-04T01:44:48.397Z"
   },
   {
    "duration": 5,
    "start_time": "2024-09-04T01:44:48.406Z"
   },
   {
    "duration": 6,
    "start_time": "2024-09-04T01:44:48.413Z"
   },
   {
    "duration": 6,
    "start_time": "2024-09-04T01:44:48.420Z"
   },
   {
    "duration": 6,
    "start_time": "2024-09-04T01:44:48.429Z"
   },
   {
    "duration": 5,
    "start_time": "2024-09-04T01:44:48.436Z"
   },
   {
    "duration": 3,
    "start_time": "2024-09-04T01:44:48.442Z"
   },
   {
    "duration": 17,
    "start_time": "2024-09-04T01:44:48.486Z"
   },
   {
    "duration": 7,
    "start_time": "2024-09-04T01:44:48.504Z"
   },
   {
    "duration": 113,
    "start_time": "2024-09-04T01:44:48.513Z"
   },
   {
    "duration": 5,
    "start_time": "2024-09-04T01:44:48.627Z"
   },
   {
    "duration": 3,
    "start_time": "2024-09-04T01:44:48.634Z"
   },
   {
    "duration": 4,
    "start_time": "2024-09-04T01:44:48.639Z"
   },
   {
    "duration": 4,
    "start_time": "2024-09-04T01:44:48.645Z"
   },
   {
    "duration": 4,
    "start_time": "2024-09-04T01:44:48.650Z"
   },
   {
    "duration": 183,
    "start_time": "2024-09-04T01:44:48.655Z"
   },
   {
    "duration": 0,
    "start_time": "2024-09-04T01:44:48.841Z"
   },
   {
    "duration": 0,
    "start_time": "2024-09-04T01:44:48.842Z"
   },
   {
    "duration": 0,
    "start_time": "2024-09-04T01:44:48.843Z"
   },
   {
    "duration": 1,
    "start_time": "2024-09-04T01:44:48.844Z"
   },
   {
    "duration": 0,
    "start_time": "2024-09-04T01:44:48.845Z"
   },
   {
    "duration": 0,
    "start_time": "2024-09-04T01:44:48.846Z"
   },
   {
    "duration": 0,
    "start_time": "2024-09-04T01:44:48.847Z"
   },
   {
    "duration": 0,
    "start_time": "2024-09-04T01:44:48.849Z"
   },
   {
    "duration": 0,
    "start_time": "2024-09-04T01:44:48.850Z"
   },
   {
    "duration": 0,
    "start_time": "2024-09-04T01:44:48.851Z"
   },
   {
    "duration": 0,
    "start_time": "2024-09-04T01:44:48.853Z"
   },
   {
    "duration": 0,
    "start_time": "2024-09-04T01:44:48.854Z"
   },
   {
    "duration": 0,
    "start_time": "2024-09-04T01:44:48.855Z"
   },
   {
    "duration": 0,
    "start_time": "2024-09-04T01:44:48.857Z"
   },
   {
    "duration": 0,
    "start_time": "2024-09-04T01:44:48.858Z"
   },
   {
    "duration": 1006,
    "start_time": "2024-09-04T01:45:54.993Z"
   },
   {
    "duration": 16,
    "start_time": "2024-09-04T01:45:56.001Z"
   },
   {
    "duration": 10,
    "start_time": "2024-09-04T01:45:56.018Z"
   },
   {
    "duration": 12,
    "start_time": "2024-09-04T01:45:56.029Z"
   },
   {
    "duration": 11,
    "start_time": "2024-09-04T01:45:56.044Z"
   },
   {
    "duration": 33,
    "start_time": "2024-09-04T01:45:56.056Z"
   },
   {
    "duration": 5,
    "start_time": "2024-09-04T01:45:56.091Z"
   },
   {
    "duration": 6,
    "start_time": "2024-09-04T01:45:56.098Z"
   },
   {
    "duration": 6,
    "start_time": "2024-09-04T01:45:56.105Z"
   },
   {
    "duration": 6,
    "start_time": "2024-09-04T01:45:56.112Z"
   },
   {
    "duration": 3,
    "start_time": "2024-09-04T01:45:56.121Z"
   },
   {
    "duration": 3,
    "start_time": "2024-09-04T01:45:56.126Z"
   },
   {
    "duration": 56,
    "start_time": "2024-09-04T01:45:56.130Z"
   },
   {
    "duration": 8,
    "start_time": "2024-09-04T01:45:56.190Z"
   },
   {
    "duration": 110,
    "start_time": "2024-09-04T01:45:56.201Z"
   },
   {
    "duration": 5,
    "start_time": "2024-09-04T01:45:56.313Z"
   },
   {
    "duration": 4,
    "start_time": "2024-09-04T01:45:56.320Z"
   },
   {
    "duration": 4,
    "start_time": "2024-09-04T01:45:56.325Z"
   },
   {
    "duration": 4,
    "start_time": "2024-09-04T01:45:56.330Z"
   },
   {
    "duration": 4,
    "start_time": "2024-09-04T01:45:56.335Z"
   },
   {
    "duration": 37728,
    "start_time": "2024-09-04T01:45:56.340Z"
   },
   {
    "duration": 73256,
    "start_time": "2024-09-04T01:46:34.070Z"
   },
   {
    "duration": 1811,
    "start_time": "2024-09-04T01:47:47.328Z"
   },
   {
    "duration": 47,
    "start_time": "2024-09-04T01:47:49.141Z"
   },
   {
    "duration": 17,
    "start_time": "2024-09-04T01:47:49.189Z"
   },
   {
    "duration": 77,
    "start_time": "2024-09-04T01:47:49.211Z"
   },
   {
    "duration": 8,
    "start_time": "2024-09-04T01:47:49.289Z"
   },
   {
    "duration": 6,
    "start_time": "2024-09-04T01:47:49.299Z"
   },
   {
    "duration": 40143,
    "start_time": "2024-09-04T01:47:49.306Z"
   },
   {
    "duration": 83854,
    "start_time": "2024-09-04T01:48:29.452Z"
   },
   {
    "duration": 2180,
    "start_time": "2024-09-04T01:49:53.308Z"
   },
   {
    "duration": 63230,
    "start_time": "2024-09-04T01:49:55.492Z"
   },
   {
    "duration": 20805,
    "start_time": "2024-09-04T01:50:58.724Z"
   },
   {
    "duration": 133125,
    "start_time": "2024-09-04T01:51:19.531Z"
   },
   {
    "duration": 2753,
    "start_time": "2024-09-04T01:53:32.658Z"
   },
   {
    "duration": 292,
    "start_time": "2024-09-04T01:53:35.413Z"
   },
   {
    "duration": 10,
    "start_time": "2024-09-04T01:57:30.404Z"
   },
   {
    "duration": 3538,
    "start_time": "2024-09-04T17:10:40.898Z"
   },
   {
    "duration": 49,
    "start_time": "2024-09-04T17:10:44.439Z"
   },
   {
    "duration": 13,
    "start_time": "2024-09-04T17:10:44.490Z"
   },
   {
    "duration": 17,
    "start_time": "2024-09-04T17:10:44.505Z"
   },
   {
    "duration": 25,
    "start_time": "2024-09-04T17:10:44.524Z"
   },
   {
    "duration": 12,
    "start_time": "2024-09-04T17:10:44.551Z"
   },
   {
    "duration": 11,
    "start_time": "2024-09-04T17:10:44.566Z"
   },
   {
    "duration": 7,
    "start_time": "2024-09-04T17:10:44.579Z"
   },
   {
    "duration": 8,
    "start_time": "2024-09-04T17:10:44.590Z"
   },
   {
    "duration": 6,
    "start_time": "2024-09-04T17:10:44.602Z"
   },
   {
    "duration": 16,
    "start_time": "2024-09-04T17:10:44.610Z"
   },
   {
    "duration": 4,
    "start_time": "2024-09-04T17:10:44.628Z"
   },
   {
    "duration": 28,
    "start_time": "2024-09-04T17:10:44.634Z"
   },
   {
    "duration": 10,
    "start_time": "2024-09-04T17:10:44.664Z"
   },
   {
    "duration": 128,
    "start_time": "2024-09-04T17:10:44.677Z"
   },
   {
    "duration": 17,
    "start_time": "2024-09-04T17:10:44.808Z"
   },
   {
    "duration": 10,
    "start_time": "2024-09-04T17:10:44.826Z"
   },
   {
    "duration": 5,
    "start_time": "2024-09-04T17:10:44.838Z"
   },
   {
    "duration": 5,
    "start_time": "2024-09-04T17:10:44.845Z"
   },
   {
    "duration": 7,
    "start_time": "2024-09-04T17:10:44.853Z"
   },
   {
    "duration": 44820,
    "start_time": "2024-09-04T17:10:44.864Z"
   },
   {
    "duration": 87655,
    "start_time": "2024-09-04T17:11:29.686Z"
   },
   {
    "duration": 3444,
    "start_time": "2024-09-04T17:12:57.347Z"
   },
   {
    "duration": 10,
    "start_time": "2024-09-04T17:13:00.829Z"
   },
   {
    "duration": 42,
    "start_time": "2024-09-04T17:13:00.845Z"
   },
   {
    "duration": 43,
    "start_time": "2024-09-04T17:13:00.889Z"
   },
   {
    "duration": 16,
    "start_time": "2024-09-04T17:13:00.939Z"
   },
   {
    "duration": 12,
    "start_time": "2024-09-04T17:13:00.961Z"
   },
   {
    "duration": 50691,
    "start_time": "2024-09-04T17:13:00.975Z"
   },
   {
    "duration": 104565,
    "start_time": "2024-09-04T17:13:51.670Z"
   },
   {
    "duration": 3551,
    "start_time": "2024-09-04T17:15:36.237Z"
   },
   {
    "duration": 80417,
    "start_time": "2024-09-04T17:15:39.791Z"
   },
   {
    "duration": 27094,
    "start_time": "2024-09-04T17:17:00.210Z"
   },
   {
    "duration": 165219,
    "start_time": "2024-09-04T17:17:27.309Z"
   },
   {
    "duration": 3956,
    "start_time": "2024-09-04T17:20:12.530Z"
   },
   {
    "duration": 277,
    "start_time": "2024-09-04T17:20:16.488Z"
   },
   {
    "duration": 10,
    "start_time": "2024-09-04T17:20:16.767Z"
   },
   {
    "duration": 217,
    "start_time": "2024-09-04T17:30:03.519Z"
   },
   {
    "duration": 16,
    "start_time": "2024-09-04T17:30:16.153Z"
   },
   {
    "duration": 321,
    "start_time": "2024-09-04T17:31:43.817Z"
   },
   {
    "duration": 291,
    "start_time": "2024-09-04T17:31:53.177Z"
   },
   {
    "duration": 264,
    "start_time": "2024-09-04T17:32:08.958Z"
   },
   {
    "duration": 282,
    "start_time": "2024-09-04T17:32:13.599Z"
   },
   {
    "duration": 293,
    "start_time": "2024-09-04T17:32:18.002Z"
   },
   {
    "duration": 267,
    "start_time": "2024-09-04T17:32:25.753Z"
   },
   {
    "duration": 307,
    "start_time": "2024-09-04T17:32:33.579Z"
   },
   {
    "duration": 281,
    "start_time": "2024-09-04T17:32:40.127Z"
   },
   {
    "duration": 265,
    "start_time": "2024-09-04T17:32:45.517Z"
   },
   {
    "duration": 275,
    "start_time": "2024-09-04T17:32:53.381Z"
   },
   {
    "duration": 264,
    "start_time": "2024-09-04T17:33:02.901Z"
   },
   {
    "duration": 258,
    "start_time": "2024-09-04T17:33:07.050Z"
   },
   {
    "duration": 257,
    "start_time": "2024-09-04T17:33:14.451Z"
   },
   {
    "duration": 253,
    "start_time": "2024-09-04T17:33:19.157Z"
   },
   {
    "duration": 384,
    "start_time": "2024-09-04T17:33:31.173Z"
   },
   {
    "duration": 331,
    "start_time": "2024-09-04T17:33:37.566Z"
   },
   {
    "duration": 362,
    "start_time": "2024-09-04T17:33:42.824Z"
   },
   {
    "duration": 365,
    "start_time": "2024-09-04T17:33:49.482Z"
   },
   {
    "duration": 353,
    "start_time": "2024-09-04T17:33:53.454Z"
   },
   {
    "duration": 366,
    "start_time": "2024-09-04T17:33:58.251Z"
   },
   {
    "duration": 358,
    "start_time": "2024-09-04T17:34:04.038Z"
   },
   {
    "duration": 369,
    "start_time": "2024-09-04T17:34:07.463Z"
   },
   {
    "duration": 757,
    "start_time": "2024-09-04T17:34:25.038Z"
   },
   {
    "duration": 429,
    "start_time": "2024-09-04T17:34:32.305Z"
   },
   {
    "duration": 411,
    "start_time": "2024-09-04T17:35:21.344Z"
   },
   {
    "duration": 383,
    "start_time": "2024-09-04T17:35:26.259Z"
   },
   {
    "duration": 386,
    "start_time": "2024-09-04T17:35:31.265Z"
   },
   {
    "duration": 427,
    "start_time": "2024-09-04T17:35:40.182Z"
   },
   {
    "duration": 402118,
    "start_time": "2024-09-04T17:38:24.383Z"
   },
   {
    "duration": 296,
    "start_time": "2024-09-04T17:46:48.410Z"
   },
   {
    "duration": 223,
    "start_time": "2024-09-04T17:46:54.412Z"
   },
   {
    "duration": 398,
    "start_time": "2024-09-04T17:46:58.063Z"
   },
   {
    "duration": 2764,
    "start_time": "2024-09-05T01:17:53.758Z"
   },
   {
    "duration": 25,
    "start_time": "2024-09-05T01:17:56.525Z"
   },
   {
    "duration": 12,
    "start_time": "2024-09-05T01:17:56.554Z"
   },
   {
    "duration": 23,
    "start_time": "2024-09-05T01:17:56.569Z"
   },
   {
    "duration": 11,
    "start_time": "2024-09-05T01:17:56.594Z"
   },
   {
    "duration": 8,
    "start_time": "2024-09-05T01:17:56.606Z"
   },
   {
    "duration": 8,
    "start_time": "2024-09-05T01:17:56.616Z"
   },
   {
    "duration": 7,
    "start_time": "2024-09-05T01:17:56.626Z"
   },
   {
    "duration": 6,
    "start_time": "2024-09-05T01:17:56.635Z"
   },
   {
    "duration": 6,
    "start_time": "2024-09-05T01:17:56.644Z"
   },
   {
    "duration": 36,
    "start_time": "2024-09-05T01:17:56.651Z"
   },
   {
    "duration": 3,
    "start_time": "2024-09-05T01:17:56.689Z"
   },
   {
    "duration": 18,
    "start_time": "2024-09-05T01:17:56.694Z"
   },
   {
    "duration": 6,
    "start_time": "2024-09-05T01:17:56.713Z"
   },
   {
    "duration": 119,
    "start_time": "2024-09-05T01:17:56.720Z"
   },
   {
    "duration": 5,
    "start_time": "2024-09-05T01:17:56.841Z"
   },
   {
    "duration": 5,
    "start_time": "2024-09-05T01:17:56.847Z"
   },
   {
    "duration": 3,
    "start_time": "2024-09-05T01:17:56.854Z"
   },
   {
    "duration": 4,
    "start_time": "2024-09-05T01:17:56.860Z"
   },
   {
    "duration": 4,
    "start_time": "2024-09-05T01:17:56.887Z"
   },
   {
    "duration": 37435,
    "start_time": "2024-09-05T01:17:56.893Z"
   },
   {
    "duration": 73946,
    "start_time": "2024-09-05T01:18:34.330Z"
   },
   {
    "duration": 1555,
    "start_time": "2024-09-05T01:19:48.279Z"
   },
   {
    "duration": 6,
    "start_time": "2024-09-05T01:19:49.836Z"
   },
   {
    "duration": 61,
    "start_time": "2024-09-05T01:19:49.843Z"
   },
   {
    "duration": 9,
    "start_time": "2024-09-05T01:19:49.905Z"
   },
   {
    "duration": 78,
    "start_time": "2024-09-05T01:19:49.917Z"
   },
   {
    "duration": 6,
    "start_time": "2024-09-05T01:19:49.998Z"
   },
   {
    "duration": 41508,
    "start_time": "2024-09-05T01:19:50.006Z"
   },
   {
    "duration": 85889,
    "start_time": "2024-09-05T01:20:31.516Z"
   },
   {
    "duration": 2240,
    "start_time": "2024-09-05T01:21:57.406Z"
   },
   {
    "duration": 63313,
    "start_time": "2024-09-05T01:21:59.648Z"
   },
   {
    "duration": 21872,
    "start_time": "2024-09-05T01:23:02.963Z"
   },
   {
    "duration": 134074,
    "start_time": "2024-09-05T01:23:24.888Z"
   },
   {
    "duration": 2526,
    "start_time": "2024-09-05T01:25:38.964Z"
   },
   {
    "duration": 265,
    "start_time": "2024-09-05T01:25:41.492Z"
   },
   {
    "duration": 338,
    "start_time": "2024-09-05T01:25:41.759Z"
   },
   {
    "duration": 13,
    "start_time": "2024-09-05T01:25:42.100Z"
   },
   {
    "duration": 230,
    "start_time": "2024-09-05T01:39:25.907Z"
   },
   {
    "duration": 3,
    "start_time": "2024-09-05T01:40:10.255Z"
   },
   {
    "duration": 101,
    "start_time": "2024-09-05T01:40:14.175Z"
   },
   {
    "duration": 111,
    "start_time": "2024-09-05T01:42:31.802Z"
   },
   {
    "duration": 5,
    "start_time": "2024-09-05T01:50:38.169Z"
   },
   {
    "duration": 14,
    "start_time": "2024-09-05T01:52:44.145Z"
   },
   {
    "duration": 223,
    "start_time": "2024-09-05T01:56:50.273Z"
   },
   {
    "duration": 6,
    "start_time": "2024-09-05T02:00:52.217Z"
   },
   {
    "duration": 6,
    "start_time": "2024-09-05T02:02:13.723Z"
   },
   {
    "duration": 14,
    "start_time": "2024-09-05T02:02:56.067Z"
   },
   {
    "duration": 130,
    "start_time": "2024-09-05T02:03:36.334Z"
   },
   {
    "duration": 6,
    "start_time": "2024-09-05T02:04:30.548Z"
   }
  ],
  "kernelspec": {
   "display_name": "Python 3 (ipykernel)",
   "language": "python",
   "name": "python3"
  },
  "language_info": {
   "codemirror_mode": {
    "name": "ipython",
    "version": 3
   },
   "file_extension": ".py",
   "mimetype": "text/x-python",
   "name": "python",
   "nbconvert_exporter": "python",
   "pygments_lexer": "ipython3",
   "version": "3.13.2"
  },
  "toc": {
   "base_numbering": 1,
   "nav_menu": {},
   "number_sections": true,
   "sideBar": true,
   "skip_h1_title": true,
   "title_cell": "Table of Contents",
   "title_sidebar": "Contents",
   "toc_cell": false,
   "toc_position": {
    "height": "calc(100% - 180px)",
    "left": "10px",
    "top": "150px",
    "width": "370px"
   },
   "toc_section_display": true,
   "toc_window_display": true
  }
 },
 "nbformat": 4,
 "nbformat_minor": 4
}
